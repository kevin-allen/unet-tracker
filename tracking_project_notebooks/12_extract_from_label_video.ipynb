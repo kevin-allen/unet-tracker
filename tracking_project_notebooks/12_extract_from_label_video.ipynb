{
 "cells": [
  {
   "cell_type": "markdown",
   "id": "674254a6-d54c-4d8c-b188-27bbe0ab46bd",
   "metadata": {},
   "source": [
    "# Extract problematic frames from a label video\n",
    "\n",
    "Let's say you have trained a model, analyzed and labeled video. By watching the label video, you might notice that you model is making some mistakes. \n",
    "\n",
    "You can fix this by extracing the problematic frames, manually label the body parts and adding these images to your dataset, and training your model further. \n",
    "\n",
    "This notebook helps with extracting new images for which you model is not performing well."
   ]
  },
  {
   "cell_type": "code",
   "execution_count": 1,
   "id": "7d32f889-1e60-4572-a5c8-3843ef307a19",
   "metadata": {},
   "outputs": [
    {
     "name": "stdout",
     "output_type": "stream",
     "text": [
      "Project directory: /home/kevin/Documents/trackingProjects/finger_tracker\n",
      "Getting configuration from config file. Values from config file will be used.\n",
      "Loading /home/kevin/Documents/trackingProjects/finger_tracker/config.yalm\n",
      "{'augmentation_HorizontalFlipProb': 0.0, 'augmentation_RandomBrightnessContrastProb': 0.2, 'augmentation_RandomSizedCropProb': 1.0, 'augmentation_RotateProb': 0.3, 'image_extension': '.png', 'image_size': [270, 480], 'labeling_ImageEnlargeFactor': 2.0, 'name': 'finger_tracker', 'normalization_values': {'means': [0.40835028886795044, 0.4549056589603424, 0.51627117395401], 'stds': [0.23996737599372864, 0.251758873462677, 0.26929107308387756]}, 'object_colors': [(0.0, 0.0, 255.0), (255.0, 0.0, 0.0), (255.0, 255.0, 0.0), (240.0, 255.0, 255.0)], 'objects': ['f1', 'f2', 'f3', 'f4'], 'target_radius': 6, 'unet_features': [64, 128, 256, 512]}\n"
     ]
    }
   ],
   "source": [
    "%run setup_project.py\n",
    "%matplotlib widget\n",
    "from unetTracker.dataset import UNetDataset\n",
    "from unetTracker.unetGUI import LabelFromImagesGUI, SelectImagesFromLabeledVideoGUI"
   ]
  },
  {
   "cell_type": "code",
   "execution_count": 2,
   "id": "3756d2f2-8918-41b0-8828-4419c58fc058",
   "metadata": {},
   "outputs": [
    {
     "name": "stdout",
     "output_type": "stream",
     "text": [
      "Number of images in the dataset: 184\n"
     ]
    }
   ],
   "source": [
    "dataset = UNetDataset(image_dir=project.image_dir, mask_dir=project.mask_dir, coordinate_dir=project.coordinate_dir,\n",
    "                      image_extension=project.image_extension)\n",
    "print(\"Number of images in the dataset:\",len(dataset))"
   ]
  },
  {
   "cell_type": "code",
   "execution_count": 4,
   "id": "fc7c7f42-998b-43ab-ae8f-75c9bb61211d",
   "metadata": {},
   "outputs": [
    {
     "name": "stdout",
     "output_type": "stream",
     "text": [
      "/home/kevin/Documents/trackingProjects/finger_tracker/videos/human_hand.mp4 /home/kevin/Documents/trackingProjects/finger_tracker/videos/human_hand_label.avi\n"
     ]
    }
   ],
   "source": [
    "video_fn = \"/home/kevin/Documents/trackingProjects/finger_tracker/videos/human_hand.mp4\"\n",
    "label_fn = (os.path.splitext(video_fn)[0]) + \"_label.avi\"\n",
    "print(video_fn, label_fn)"
   ]
  },
  {
   "cell_type": "code",
   "execution_count": 6,
   "id": "93fcbf67-fe1f-46f9-b473-67dc7302447e",
   "metadata": {},
   "outputs": [
    {
     "name": "stdout",
     "output_type": "stream",
     "text": [
      "Video file /home/kevin/Documents/trackingProjects/finger_tracker/videos/human_hand.mp4 exist\n",
      "Video file /home/kevin/Documents/trackingProjects/finger_tracker/videos/human_hand_label.avi exist\n"
     ]
    }
   ],
   "source": [
    "for fn in [video_fn,label_fn]:\n",
    "    if os.path.exists(fn):\n",
    "        print(\"Video file {} exist\".format(fn))\n",
    "    else:\n",
    "        raise IOError(\"Video file {} does not exist\".format(fn))"
   ]
  },
  {
   "cell_type": "code",
   "execution_count": 7,
   "id": "cab6ab8c-7d4f-4957-8c90-72345fc6a8c5",
   "metadata": {},
   "outputs": [
    {
     "data": {
      "application/vnd.jupyter.widget-view+json": {
       "model_id": "5d892a21d157402c821f12c3adf6abb9",
       "version_major": 2,
       "version_minor": 0
      },
      "text/plain": [
       "SelectImagesFromLabeledVideoGUI(children=(HBox(children=(Image(value=b'\\xff\\xd8\\xff\\xe0\\x00\\x10JFIF\\x00\\x01\\x0…"
      ]
     },
     "metadata": {},
     "output_type": "display_data"
    }
   ],
   "source": [
    "myGui = SelectImagesFromLabeledVideoGUI(label_fn, \n",
    "                                project)\n",
    "display(myGui)"
   ]
  },
  {
   "cell_type": "code",
   "execution_count": 8,
   "id": "b8d9df24-f1a2-4469-bfd4-953d457eaf3c",
   "metadata": {},
   "outputs": [
    {
     "name": "stdout",
     "output_type": "stream",
     "text": [
      "16\n"
     ]
    },
    {
     "data": {
      "text/plain": [
       "[462, 546, 950, 1029, 1139, 1237, 1321, 1542, 1594, 1710]"
      ]
     },
     "execution_count": 8,
     "metadata": {},
     "output_type": "execute_result"
    }
   ],
   "source": [
    "myList = myGui.frame_list\n",
    "print(len(myList))\n",
    "myList[:10]"
   ]
  },
  {
   "cell_type": "code",
   "execution_count": 9,
   "id": "86c6c482-2d02-453c-b4e8-5b7b563d671b",
   "metadata": {},
   "outputs": [
    {
     "name": "stdout",
     "output_type": "stream",
     "text": [
      "video length: 5795, image size: 270h 480w\n",
      "Extracting frames: [462, 546, 950, 1029, 1139, 1237, 1321, 1542, 1594, 1710, 1821, 1944, 2308, 2311, 2590, 2796] to /home/kevin/Documents/trackingProjects/finger_tracker/extracted_frames/\n",
      "Saving image info to /home/kevin/Documents/trackingProjects/finger_tracker/extracted_frames/frame_info.csv\n"
     ]
    }
   ],
   "source": [
    "extracted_frame_dir = project.project_dir+\"/extracted_frames/\" # directory where the extracted images will be saved\n",
    "frame_info_file = extracted_frame_dir+\"frame_info.csv\" # file where the source of the image is stored\n",
    "\n",
    "\n",
    "\n",
    "dataset.extract_frames_from_video(video_fn = video_fn, \n",
    "                                  frame_dir = extracted_frame_dir,\n",
    "                                  image_size = project.image_size,\n",
    "                                  selected_frames = myList,\n",
    "                                  frame_info_file = frame_info_file)"
   ]
  },
  {
   "cell_type": "code",
   "execution_count": 10,
   "id": "b5b71b37-82c1-4971-bcdd-6d8fb7cf33bc",
   "metadata": {},
   "outputs": [
    {
     "name": "stdout",
     "output_type": "stream",
     "text": [
      "frame.shape: (270, 480, 3)\n",
      "b45c544e-893a-11ee-8baa-cb80e822b7fc.png\n"
     ]
    },
    {
     "data": {
      "application/vnd.jupyter.widget-view+json": {
       "model_id": "0b47e7a2d26f4d31ae7e396c3f857c9f",
       "version_major": 2,
       "version_minor": 0
      },
      "text/plain": [
       "LabelFromImagesGUI(children=(HTML(value='Event info'), HBox(children=(Label(value='Objects:'), RadioButtons(la…"
      ]
     },
     "execution_count": 10,
     "metadata": {},
     "output_type": "execute_result"
    }
   ],
   "source": [
    "LabelFromImagesGUI(image_dir=extracted_frame_dir,\n",
    "                   frame_info_file=frame_info_file,\n",
    "                   project=project,dataset=dataset)"
   ]
  },
  {
   "cell_type": "code",
   "execution_count": 11,
   "id": "1446b402-29e4-4821-a6a1-7d788f0902c9",
   "metadata": {},
   "outputs": [
    {
     "data": {
      "text/plain": [
       "200"
      ]
     },
     "execution_count": 11,
     "metadata": {},
     "output_type": "execute_result"
    }
   ],
   "source": [
    "len(dataset)"
   ]
  },
  {
   "cell_type": "markdown",
   "id": "1b1b64cb-f064-46bd-942f-d7a8bcc170a6",
   "metadata": {},
   "source": [
    "Now that you have added problematic frames to your dataset, you can use them to further train your network you will have to go through Notebooks 04_ to 06_ to retrain your network. "
   ]
  },
  {
   "cell_type": "code",
   "execution_count": null,
   "id": "fb635705-c0e9-455c-ab4c-1c7051f0b317",
   "metadata": {},
   "outputs": [],
   "source": []
  }
 ],
 "metadata": {
  "kernelspec": {
   "display_name": "Python 3 (ipykernel)",
   "language": "python",
   "name": "python3"
  },
  "language_info": {
   "codemirror_mode": {
    "name": "ipython",
    "version": 3
   },
   "file_extension": ".py",
   "mimetype": "text/x-python",
   "name": "python",
   "nbconvert_exporter": "python",
   "pygments_lexer": "ipython3",
   "version": "3.10.12"
  }
 },
 "nbformat": 4,
 "nbformat_minor": 5
}
