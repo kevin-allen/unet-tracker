{
 "cells": [
  {
   "cell_type": "markdown",
   "id": "c5872534-3dd4-46b9-a862-b6deb6c1dfd7",
   "metadata": {},
   "source": [
    "# Label a video\n",
    "\n",
    "Before labeling a video, you need to track your object in this video. See notebook `10_track_videos_COLAB.ipynb`.\n",
    "\n",
    "You will need to put the `.csv` file in the same directory as the video file.\n",
    "\n",
    "Here the code will add markers where the objects were detected."
   ]
  },
  {
   "cell_type": "code",
   "execution_count": 1,
   "id": "ec1e634c-4a01-4168-adb5-250d2cfb8d03",
   "metadata": {},
   "outputs": [
    {
     "name": "stdout",
     "output_type": "stream",
     "text": [
      "Project directory: /home/kevin/Documents/trackingProjects/finger_tracker\n",
      "Getting configuration from config file. Values from config file will be used.\n",
      "Loading /home/kevin/Documents/trackingProjects/finger_tracker/config.yalm\n",
      "{'augmentation_HorizontalFlipProb': 0.0, 'augmentation_RandomBrightnessContrastProb': 0.2, 'augmentation_RandomSizedCropProb': 1.0, 'augmentation_RotateProb': 0.3, 'image_extension': '.png', 'image_size': [270, 480], 'labeling_ImageEnlargeFactor': 2.0, 'name': 'finger_tracker', 'normalization_values': {'means': [0.4079657196998596, 0.4543980062007904, 0.5158050656318665], 'stds': [0.23991422355175018, 0.25161123275756836, 0.26905474066734314]}, 'object_colors': [(0.0, 0.0, 255.0), (255.0, 0.0, 0.0), (255.0, 255.0, 0.0), (240.0, 255.0, 255.0)], 'objects': ['f1', 'f2', 'f3', 'f4'], 'target_radius': 6, 'unet_features': [64, 128, 256, 512]}\n"
     ]
    }
   ],
   "source": [
    "%run setup_project.py\n",
    "from unetTracker.utils import label_video"
   ]
  },
  {
   "cell_type": "code",
   "execution_count": 2,
   "id": "072e2151-0e63-4078-b0b0-021b6b389f6e",
   "metadata": {},
   "outputs": [
    {
     "name": "stdout",
     "output_type": "stream",
     "text": [
      "/home/kevin/Documents/trackingProjects/finger_tracker/videos/human_hand.mp4 /home/kevin/Documents/trackingProjects/finger_tracker/videos/human_hand.csv /home/kevin/Documents/trackingProjects/finger_tracker/videos/human_hand_label.avi\n"
     ]
    }
   ],
   "source": [
    "video_fn = \"/home/kevin/Documents/trackingProjects/finger_tracker/videos/human_hand.mp4\"\n",
    "tracking_fn = (os.path.splitext(video_fn)[0]) + \".csv\"\n",
    "label_fn = (os.path.splitext(video_fn)[0]) + \"_label.avi\"\n",
    "print(video_fn, tracking_fn,label_fn)"
   ]
  },
  {
   "cell_type": "code",
   "execution_count": 3,
   "id": "fbd85573-db05-44a0-aca3-f39902b627d2",
   "metadata": {},
   "outputs": [
    {
     "name": "stdout",
     "output_type": "stream",
     "text": [
      "Video file /home/kevin/Documents/trackingProjects/finger_tracker/videos/human_hand.mp4 exist\n",
      "Video file /home/kevin/Documents/trackingProjects/finger_tracker/videos/human_hand.csv exist\n"
     ]
    }
   ],
   "source": [
    "for fn in [video_fn,tracking_fn]:\n",
    "    if os.path.exists(fn):\n",
    "        print(\"Video file {} exist\".format(fn))\n",
    "    else:\n",
    "        raise IOError(\"Video file {} does not exist\".format(fn))"
   ]
  },
  {
   "cell_type": "code",
   "execution_count": 4,
   "id": "ffe8ae09-cb01-4d8e-b825-cf75ab9fc5bb",
   "metadata": {},
   "outputs": [
    {
     "ename": "OSError",
     "evalue": "/home/kevin/Documents/trackingProjects/finger_tracker/videos/human_hand_label.avi already exists, please remove it",
     "output_type": "error",
     "traceback": [
      "\u001b[0;31m---------------------------------------------------------------------------\u001b[0m",
      "\u001b[0;31mOSError\u001b[0m                                   Traceback (most recent call last)",
      "Cell \u001b[0;32mIn[4], line 1\u001b[0m\n\u001b[0;32m----> 1\u001b[0m \u001b[43mlabel_video\u001b[49m\u001b[43m(\u001b[49m\u001b[43mproject\u001b[49m\u001b[43m,\u001b[49m\u001b[43mvideo_fn\u001b[49m\u001b[43m,\u001b[49m\u001b[43mtracking_fn\u001b[49m\u001b[43m,\u001b[49m\u001b[43mlabel_fn\u001b[49m\u001b[43m)\u001b[49m\n",
      "File \u001b[0;32m~/repo/unetTracker/unetTracker/utils.py:394\u001b[0m, in \u001b[0;36mlabel_video\u001b[0;34m(project, video_fn, tracking_fn, label_fn, nFrames)\u001b[0m\n\u001b[1;32m    391\u001b[0m df \u001b[38;5;241m=\u001b[39m pd\u001b[38;5;241m.\u001b[39mread_csv(tracking_fn)\n\u001b[1;32m    393\u001b[0m \u001b[38;5;28;01mif\u001b[39;00m os\u001b[38;5;241m.\u001b[39mpath\u001b[38;5;241m.\u001b[39mexists(label_fn):\n\u001b[0;32m--> 394\u001b[0m     \u001b[38;5;28;01mraise\u001b[39;00m \u001b[38;5;167;01mIOError\u001b[39;00m(\u001b[38;5;124mf\u001b[39m\u001b[38;5;124m\"\u001b[39m\u001b[38;5;132;01m{\u001b[39;00mlabel_fn\u001b[38;5;132;01m}\u001b[39;00m\u001b[38;5;124m already exists, please remove it\u001b[39m\u001b[38;5;124m\"\u001b[39m)\n\u001b[1;32m    396\u001b[0m \u001b[38;5;28;01mif\u001b[39;00m \u001b[38;5;129;01mnot\u001b[39;00m os\u001b[38;5;241m.\u001b[39mpath\u001b[38;5;241m.\u001b[39mexists(video_fn):  \n\u001b[1;32m    397\u001b[0m     \u001b[38;5;28;01mraise\u001b[39;00m \u001b[38;5;167;01mIOError\u001b[39;00m(\u001b[38;5;124m\"\u001b[39m\u001b[38;5;124mVideo file does not exist:\u001b[39m\u001b[38;5;124m\"\u001b[39m,video_fn)\n",
      "\u001b[0;31mOSError\u001b[0m: /home/kevin/Documents/trackingProjects/finger_tracker/videos/human_hand_label.avi already exists, please remove it"
     ]
    }
   ],
   "source": [
    "label_video(project,video_fn,tracking_fn,label_fn)"
   ]
  },
  {
   "cell_type": "markdown",
   "id": "8a9bb5c9-6933-476b-89cb-562d3832c6ba",
   "metadata": {},
   "source": [
    "You can now have a look at the labeled video."
   ]
  },
  {
   "cell_type": "code",
   "execution_count": 9,
   "id": "22647862-3968-4043-b058-d442c340ce7b",
   "metadata": {},
   "outputs": [
    {
     "data": {
      "text/plain": [
       "'/home/kevin/Documents/trackingProjects/finger_tracker/videos/human_hand_label.avi'"
      ]
     },
     "execution_count": 9,
     "metadata": {},
     "output_type": "execute_result"
    }
   ],
   "source": [
    "label_fn"
   ]
  },
  {
   "cell_type": "code",
   "execution_count": null,
   "id": "f5619210-d95e-437d-8a12-afef144bd7a7",
   "metadata": {},
   "outputs": [],
   "source": []
  }
 ],
 "metadata": {
  "kernelspec": {
   "display_name": "Python 3 (ipykernel)",
   "language": "python",
   "name": "python3"
  },
  "language_info": {
   "codemirror_mode": {
    "name": "ipython",
    "version": 3
   },
   "file_extension": ".py",
   "mimetype": "text/x-python",
   "name": "python",
   "nbconvert_exporter": "python",
   "pygments_lexer": "ipython3",
   "version": "3.10.12"
  }
 },
 "nbformat": 4,
 "nbformat_minor": 5
}
