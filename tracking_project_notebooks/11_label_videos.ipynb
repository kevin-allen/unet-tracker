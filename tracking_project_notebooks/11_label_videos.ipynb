{
 "cells": [
  {
   "cell_type": "markdown",
   "id": "c5872534-3dd4-46b9-a862-b6deb6c1dfd7",
   "metadata": {},
   "source": [
    "# Label a video\n",
    "\n",
    "Before labeling a video, you need to track your object in this video. See notebook `10_track_videos_COLAB.ipynb`.\n",
    "\n",
    "You will need to put the `.csv` file in the same directory as the video file.\n",
    "\n",
    "Here the code will add markers where the objects were detected."
   ]
  },
  {
   "cell_type": "code",
   "execution_count": 2,
   "id": "ec1e634c-4a01-4168-adb5-250d2cfb8d03",
   "metadata": {},
   "outputs": [
    {
     "name": "stdout",
     "output_type": "stream",
     "text": [
      "Project directory: /home/kevin/Documents/trackingProjects/finger_tracker\n",
      "Getting configuration from config file. Values from config file will be used.\n",
      "Loading /home/kevin/Documents/trackingProjects/finger_tracker/config.yalm\n",
      "{'augmentation_HorizontalFlipProb': 0.0, 'augmentation_RandomBrightnessContrastProb': 0.2, 'augmentation_RandomSizedCropProb': 1.0, 'augmentation_RotateProb': 0.3, 'image_extension': '.png', 'image_size': [270, 480], 'labeling_ImageEnlargeFactor': 2.0, 'name': 'finger_tracker', 'normalization_values': {'means': [0.40835028886795044, 0.4549056589603424, 0.51627117395401], 'stds': [0.23996737599372864, 0.251758873462677, 0.26929107308387756]}, 'object_colors': [(0.0, 0.0, 255.0), (255.0, 0.0, 0.0), (255.0, 255.0, 0.0), (240.0, 255.0, 255.0)], 'objects': ['f1', 'f2', 'f3', 'f4'], 'target_radius': 6, 'unet_features': [64, 128, 256, 512]}\n"
     ]
    }
   ],
   "source": [
    "%run setup_project.py\n",
    "from unetTracker.utils import label_video"
   ]
  },
  {
   "cell_type": "code",
   "execution_count": 6,
   "id": "072e2151-0e63-4078-b0b0-021b6b389f6e",
   "metadata": {},
   "outputs": [
    {
     "name": "stdout",
     "output_type": "stream",
     "text": [
      "/home/kevin/Documents/trackingProjects/finger_tracker/videos/human_hand.mp4 /home/kevin/Documents/trackingProjects/finger_tracker/videos/human_hand.csv /home/kevin/Documents/trackingProjects/finger_tracker/videos/human_hand_label.avi\n"
     ]
    }
   ],
   "source": [
    "video_fn = \"/home/kevin/Documents/trackingProjects/finger_tracker/videos/human_hand.mp4\"\n",
    "tracking_fn = (os.path.splitext(video_fn)[0]) + \".csv\"\n",
    "label_fn = (os.path.splitext(video_fn)[0]) + \"_label.avi\"\n",
    "print(video_fn, tracking_fn,label_fn)"
   ]
  },
  {
   "cell_type": "code",
   "execution_count": 7,
   "id": "fbd85573-db05-44a0-aca3-f39902b627d2",
   "metadata": {},
   "outputs": [
    {
     "name": "stdout",
     "output_type": "stream",
     "text": [
      "Video file /home/kevin/Documents/trackingProjects/finger_tracker/videos/human_hand.mp4 exist\n",
      "Video file /home/kevin/Documents/trackingProjects/finger_tracker/videos/human_hand.csv exist\n"
     ]
    }
   ],
   "source": [
    "for fn in [video_fn,tracking_fn]:\n",
    "    if os.path.exists(fn):\n",
    "        print(\"Video file {} exist\".format(fn))\n",
    "    else:\n",
    "        raise IOError(\"Video file {} does not exist\".format(fn))"
   ]
  },
  {
   "cell_type": "code",
   "execution_count": 8,
   "id": "ffe8ae09-cb01-4d8e-b825-cf75ab9fc5bb",
   "metadata": {},
   "outputs": [
    {
     "name": "stdout",
     "output_type": "stream",
     "text": [
      "Number of frames: 5795\n"
     ]
    },
    {
     "name": "stderr",
     "output_type": "stream",
     "text": [
      "100%|█████████████████████████████████████| 5795/5795 [00:05<00:00, 1083.43it/s]\n"
     ]
    }
   ],
   "source": [
    "label_video(project,video_fn,tracking_fn,label_fn)"
   ]
  },
  {
   "cell_type": "markdown",
   "id": "8a9bb5c9-6933-476b-89cb-562d3832c6ba",
   "metadata": {},
   "source": [
    "You can now have a look at the labeled video."
   ]
  },
  {
   "cell_type": "code",
   "execution_count": 9,
   "id": "22647862-3968-4043-b058-d442c340ce7b",
   "metadata": {},
   "outputs": [
    {
     "data": {
      "text/plain": [
       "'/home/kevin/Documents/trackingProjects/finger_tracker/videos/human_hand_label.avi'"
      ]
     },
     "execution_count": 9,
     "metadata": {},
     "output_type": "execute_result"
    }
   ],
   "source": [
    "label_fn"
   ]
  },
  {
   "cell_type": "code",
   "execution_count": null,
   "id": "f5619210-d95e-437d-8a12-afef144bd7a7",
   "metadata": {},
   "outputs": [],
   "source": []
  }
 ],
 "metadata": {
  "kernelspec": {
   "display_name": "Python 3 (ipykernel)",
   "language": "python",
   "name": "python3"
  },
  "language_info": {
   "codemirror_mode": {
    "name": "ipython",
    "version": 3
   },
   "file_extension": ".py",
   "mimetype": "text/x-python",
   "name": "python",
   "nbconvert_exporter": "python",
   "pygments_lexer": "ipython3",
   "version": "3.10.12"
  }
 },
 "nbformat": 4,
 "nbformat_minor": 5
}
