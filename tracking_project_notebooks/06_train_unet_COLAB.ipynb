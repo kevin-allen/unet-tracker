{
 "cells": [
  {
   "cell_type": "markdown",
   "id": "761f4ae0",
   "metadata": {
    "id": "761f4ae0"
   },
   "source": [
    "# Train U-Net\n",
    "\n",
    "This notebook will guide you through the steps to train your unet-tracker model on Google colab.\n",
    "\n",
    "With approximately 200-400 images in the training set, I trained for 200 epochs and got reasonable results for face tracking.\n",
    "\n",
    "\n",
    "## Copy your unetTracker project to Google Drive\n",
    "\n",
    "The first step is to copy your unetTracker project to your Google Drive and keep track of where you saved it.\n",
    "\n",
    "You also need to copy the Jupyter Notebooks to Google Drive as well. You could save them in the unetTracker project directory, in a subdirectory called `notebooks`.\n",
    "\n",
    "## GPU access\n",
    "\n",
    "You will need to get a Runtime with GPU access. Click on Runtime/Change runtime type. Select GPU as hardware accelerator."
   ]
  },
  {
   "cell_type": "markdown",
   "id": "zyJ86pFoUCK3",
   "metadata": {
    "id": "zyJ86pFoUCK3"
   },
   "source": [
    "## Install unet-tracker\n",
    "\n",
    "We need to install the unet-tracker python package into your Colab workspace."
   ]
  },
  {
   "cell_type": "code",
   "execution_count": 1,
   "id": "1R3kkBk9TSza",
   "metadata": {
    "colab": {
     "base_uri": "https://localhost:8080/",
     "height": 1000
    },
    "executionInfo": {
     "elapsed": 48060,
     "status": "ok",
     "timestamp": 1700652633112,
     "user": {
      "displayName": "Kevin Allen",
      "userId": "15732675083736573970"
     },
     "user_tz": -60
    },
    "id": "1R3kkBk9TSza",
    "outputId": "74e5a9cd-8636-482a-8186-f88e0d62f217"
   },
   "outputs": [
    {
     "name": "stdout",
     "output_type": "stream",
     "text": [
      "Collecting albumentations==1.3.0\n",
      "  Downloading albumentations-1.3.0-py3-none-any.whl (123 kB)\n",
      "\u001b[2K     \u001b[90m━━━━━━━━━━━━━━━━━━━━━━━━━━━━━━━━━━━━━━━━\u001b[0m \u001b[32m123.5/123.5 kB\u001b[0m \u001b[31m2.6 MB/s\u001b[0m eta \u001b[36m0:00:00\u001b[0m\n",
      "\u001b[?25hRequirement already satisfied: numpy>=1.11.1 in /usr/local/lib/python3.10/dist-packages (from albumentations==1.3.0) (1.23.5)\n",
      "Requirement already satisfied: scipy in /usr/local/lib/python3.10/dist-packages (from albumentations==1.3.0) (1.11.3)\n",
      "Requirement already satisfied: scikit-image>=0.16.1 in /usr/local/lib/python3.10/dist-packages (from albumentations==1.3.0) (0.19.3)\n",
      "Requirement already satisfied: PyYAML in /usr/local/lib/python3.10/dist-packages (from albumentations==1.3.0) (6.0.1)\n",
      "Requirement already satisfied: qudida>=0.0.4 in /usr/local/lib/python3.10/dist-packages (from albumentations==1.3.0) (0.0.4)\n",
      "Requirement already satisfied: opencv-python-headless>=4.1.1 in /usr/local/lib/python3.10/dist-packages (from albumentations==1.3.0) (4.8.1.78)\n",
      "Requirement already satisfied: scikit-learn>=0.19.1 in /usr/local/lib/python3.10/dist-packages (from qudida>=0.0.4->albumentations==1.3.0) (1.2.2)\n",
      "Requirement already satisfied: typing-extensions in /usr/local/lib/python3.10/dist-packages (from qudida>=0.0.4->albumentations==1.3.0) (4.5.0)\n",
      "Requirement already satisfied: networkx>=2.2 in /usr/local/lib/python3.10/dist-packages (from scikit-image>=0.16.1->albumentations==1.3.0) (3.2.1)\n",
      "Requirement already satisfied: pillow!=7.1.0,!=7.1.1,!=8.3.0,>=6.1.0 in /usr/local/lib/python3.10/dist-packages (from scikit-image>=0.16.1->albumentations==1.3.0) (9.4.0)\n",
      "Requirement already satisfied: imageio>=2.4.1 in /usr/local/lib/python3.10/dist-packages (from scikit-image>=0.16.1->albumentations==1.3.0) (2.31.6)\n",
      "Requirement already satisfied: tifffile>=2019.7.26 in /usr/local/lib/python3.10/dist-packages (from scikit-image>=0.16.1->albumentations==1.3.0) (2023.9.26)\n",
      "Requirement already satisfied: PyWavelets>=1.1.1 in /usr/local/lib/python3.10/dist-packages (from scikit-image>=0.16.1->albumentations==1.3.0) (1.4.1)\n",
      "Requirement already satisfied: packaging>=20.0 in /usr/local/lib/python3.10/dist-packages (from scikit-image>=0.16.1->albumentations==1.3.0) (23.2)\n",
      "Requirement already satisfied: joblib>=1.1.1 in /usr/local/lib/python3.10/dist-packages (from scikit-learn>=0.19.1->qudida>=0.0.4->albumentations==1.3.0) (1.3.2)\n",
      "Requirement already satisfied: threadpoolctl>=2.0.0 in /usr/local/lib/python3.10/dist-packages (from scikit-learn>=0.19.1->qudida>=0.0.4->albumentations==1.3.0) (3.2.0)\n",
      "Installing collected packages: albumentations\n",
      "  Attempting uninstall: albumentations\n",
      "    Found existing installation: albumentations 1.3.1\n",
      "    Uninstalling albumentations-1.3.1:\n",
      "      Successfully uninstalled albumentations-1.3.1\n",
      "Successfully installed albumentations-1.3.0\n",
      "Cloning into 'unetTracker'...\n",
      "remote: Enumerating objects: 825, done.\u001b[K\n",
      "remote: Counting objects: 100% (204/204), done.\u001b[K\n",
      "remote: Compressing objects: 100% (162/162), done.\u001b[K\n",
      "remote: Total 825 (delta 110), reused 100 (delta 41), pack-reused 621\u001b[K\n",
      "Receiving objects: 100% (825/825), 122.30 MiB | 29.95 MiB/s, done.\n",
      "Resolving deltas: 100% (500/500), done.\n",
      "Requirement already satisfied: ipywidgets in /usr/local/lib/python3.10/dist-packages (from -r unetTracker/requirements.txt (line 1)) (7.7.1)\n",
      "Collecting jupyterlab (from -r unetTracker/requirements.txt (line 2))\n",
      "  Downloading jupyterlab-4.0.9-py3-none-any.whl (9.2 MB)\n",
      "\u001b[2K     \u001b[90m━━━━━━━━━━━━━━━━━━━━━━━━━━━━━━━━━━━━━━━━\u001b[0m \u001b[32m9.2/9.2 MB\u001b[0m \u001b[31m17.8 MB/s\u001b[0m eta \u001b[36m0:00:00\u001b[0m\n",
      "\u001b[?25hCollecting ipympl (from -r unetTracker/requirements.txt (line 3))\n",
      "  Downloading ipympl-0.9.3-py2.py3-none-any.whl (511 kB)\n",
      "\u001b[2K     \u001b[90m━━━━━━━━━━━━━━━━━━━━━━━━━━━━━━━━━━━━━━━━\u001b[0m \u001b[32m511.6/511.6 kB\u001b[0m \u001b[31m38.1 MB/s\u001b[0m eta \u001b[36m0:00:00\u001b[0m\n",
      "\u001b[?25hRequirement already satisfied: matplotlib in /usr/local/lib/python3.10/dist-packages (from -r unetTracker/requirements.txt (line 4)) (3.7.1)\n",
      "Requirement already satisfied: pandas in /usr/local/lib/python3.10/dist-packages (from -r unetTracker/requirements.txt (line 5)) (1.5.3)\n",
      "Requirement already satisfied: torch in /usr/local/lib/python3.10/dist-packages (from -r unetTracker/requirements.txt (line 6)) (2.1.0+cu118)\n",
      "Requirement already satisfied: torchvision in /usr/local/lib/python3.10/dist-packages (from -r unetTracker/requirements.txt (line 7)) (0.16.0+cu118)\n",
      "Requirement already satisfied: tqdm in /usr/local/lib/python3.10/dist-packages (from -r unetTracker/requirements.txt (line 8)) (4.66.1)\n",
      "Requirement already satisfied: imgaug in /usr/local/lib/python3.10/dist-packages (from -r unetTracker/requirements.txt (line 9)) (0.4.0)\n",
      "Requirement already satisfied: albumentations==1.3.0 in /usr/local/lib/python3.10/dist-packages (from -r unetTracker/requirements.txt (line 10)) (1.3.0)\n",
      "Requirement already satisfied: numpy>=1.11.1 in /usr/local/lib/python3.10/dist-packages (from albumentations==1.3.0->-r unetTracker/requirements.txt (line 10)) (1.23.5)\n",
      "Requirement already satisfied: scipy in /usr/local/lib/python3.10/dist-packages (from albumentations==1.3.0->-r unetTracker/requirements.txt (line 10)) (1.11.3)\n",
      "Requirement already satisfied: scikit-image>=0.16.1 in /usr/local/lib/python3.10/dist-packages (from albumentations==1.3.0->-r unetTracker/requirements.txt (line 10)) (0.19.3)\n",
      "Requirement already satisfied: PyYAML in /usr/local/lib/python3.10/dist-packages (from albumentations==1.3.0->-r unetTracker/requirements.txt (line 10)) (6.0.1)\n",
      "Requirement already satisfied: qudida>=0.0.4 in /usr/local/lib/python3.10/dist-packages (from albumentations==1.3.0->-r unetTracker/requirements.txt (line 10)) (0.0.4)\n",
      "Requirement already satisfied: opencv-python-headless>=4.1.1 in /usr/local/lib/python3.10/dist-packages (from albumentations==1.3.0->-r unetTracker/requirements.txt (line 10)) (4.8.1.78)\n",
      "Requirement already satisfied: ipykernel>=4.5.1 in /usr/local/lib/python3.10/dist-packages (from ipywidgets->-r unetTracker/requirements.txt (line 1)) (5.5.6)\n",
      "Requirement already satisfied: ipython-genutils~=0.2.0 in /usr/local/lib/python3.10/dist-packages (from ipywidgets->-r unetTracker/requirements.txt (line 1)) (0.2.0)\n",
      "Requirement already satisfied: traitlets>=4.3.1 in /usr/local/lib/python3.10/dist-packages (from ipywidgets->-r unetTracker/requirements.txt (line 1)) (5.7.1)\n",
      "Requirement already satisfied: widgetsnbextension~=3.6.0 in /usr/local/lib/python3.10/dist-packages (from ipywidgets->-r unetTracker/requirements.txt (line 1)) (3.6.6)\n",
      "Requirement already satisfied: ipython>=4.0.0 in /usr/local/lib/python3.10/dist-packages (from ipywidgets->-r unetTracker/requirements.txt (line 1)) (7.34.0)\n",
      "Requirement already satisfied: jupyterlab-widgets>=1.0.0 in /usr/local/lib/python3.10/dist-packages (from ipywidgets->-r unetTracker/requirements.txt (line 1)) (3.0.9)\n",
      "Collecting async-lru>=1.0.0 (from jupyterlab->-r unetTracker/requirements.txt (line 2))\n",
      "  Downloading async_lru-2.0.4-py3-none-any.whl (6.1 kB)\n",
      "Requirement already satisfied: jinja2>=3.0.3 in /usr/local/lib/python3.10/dist-packages (from jupyterlab->-r unetTracker/requirements.txt (line 2)) (3.1.2)\n",
      "Requirement already satisfied: jupyter-core in /usr/local/lib/python3.10/dist-packages (from jupyterlab->-r unetTracker/requirements.txt (line 2)) (5.5.0)\n",
      "Collecting jupyter-lsp>=2.0.0 (from jupyterlab->-r unetTracker/requirements.txt (line 2))\n",
      "  Downloading jupyter_lsp-2.2.0-py3-none-any.whl (65 kB)\n",
      "\u001b[2K     \u001b[90m━━━━━━━━━━━━━━━━━━━━━━━━━━━━━━━━━━━━━━━━\u001b[0m \u001b[32m66.0/66.0 kB\u001b[0m \u001b[31m8.5 MB/s\u001b[0m eta \u001b[36m0:00:00\u001b[0m\n",
      "\u001b[?25hCollecting jupyter-server<3,>=2.4.0 (from jupyterlab->-r unetTracker/requirements.txt (line 2))\n",
      "  Downloading jupyter_server-2.11.0-py3-none-any.whl (379 kB)\n",
      "\u001b[2K     \u001b[90m━━━━━━━━━━━━━━━━━━━━━━━━━━━━━━━━━━━━━━━━\u001b[0m \u001b[32m379.0/379.0 kB\u001b[0m \u001b[31m38.0 MB/s\u001b[0m eta \u001b[36m0:00:00\u001b[0m\n",
      "\u001b[?25hCollecting jupyterlab-server<3,>=2.19.0 (from jupyterlab->-r unetTracker/requirements.txt (line 2))\n",
      "  Downloading jupyterlab_server-2.25.2-py3-none-any.whl (58 kB)\n",
      "\u001b[2K     \u001b[90m━━━━━━━━━━━━━━━━━━━━━━━━━━━━━━━━━━━━━━━━\u001b[0m \u001b[32m58.9/58.9 kB\u001b[0m \u001b[31m2.9 MB/s\u001b[0m eta \u001b[36m0:00:00\u001b[0m\n",
      "\u001b[?25hRequirement already satisfied: notebook-shim>=0.2 in /usr/local/lib/python3.10/dist-packages (from jupyterlab->-r unetTracker/requirements.txt (line 2)) (0.2.3)\n",
      "Requirement already satisfied: packaging in /usr/local/lib/python3.10/dist-packages (from jupyterlab->-r unetTracker/requirements.txt (line 2)) (23.2)\n",
      "Requirement already satisfied: tomli in /usr/local/lib/python3.10/dist-packages (from jupyterlab->-r unetTracker/requirements.txt (line 2)) (2.0.1)\n",
      "Requirement already satisfied: tornado>=6.2.0 in /usr/local/lib/python3.10/dist-packages (from jupyterlab->-r unetTracker/requirements.txt (line 2)) (6.3.2)\n",
      "Requirement already satisfied: pillow in /usr/local/lib/python3.10/dist-packages (from ipympl->-r unetTracker/requirements.txt (line 3)) (9.4.0)\n",
      "Requirement already satisfied: contourpy>=1.0.1 in /usr/local/lib/python3.10/dist-packages (from matplotlib->-r unetTracker/requirements.txt (line 4)) (1.2.0)\n",
      "Requirement already satisfied: cycler>=0.10 in /usr/local/lib/python3.10/dist-packages (from matplotlib->-r unetTracker/requirements.txt (line 4)) (0.12.1)\n",
      "Requirement already satisfied: fonttools>=4.22.0 in /usr/local/lib/python3.10/dist-packages (from matplotlib->-r unetTracker/requirements.txt (line 4)) (4.44.3)\n",
      "Requirement already satisfied: kiwisolver>=1.0.1 in /usr/local/lib/python3.10/dist-packages (from matplotlib->-r unetTracker/requirements.txt (line 4)) (1.4.5)\n",
      "Requirement already satisfied: pyparsing>=2.3.1 in /usr/local/lib/python3.10/dist-packages (from matplotlib->-r unetTracker/requirements.txt (line 4)) (3.1.1)\n",
      "Requirement already satisfied: python-dateutil>=2.7 in /usr/local/lib/python3.10/dist-packages (from matplotlib->-r unetTracker/requirements.txt (line 4)) (2.8.2)\n",
      "Requirement already satisfied: pytz>=2020.1 in /usr/local/lib/python3.10/dist-packages (from pandas->-r unetTracker/requirements.txt (line 5)) (2023.3.post1)\n",
      "Requirement already satisfied: filelock in /usr/local/lib/python3.10/dist-packages (from torch->-r unetTracker/requirements.txt (line 6)) (3.13.1)\n",
      "Requirement already satisfied: typing-extensions in /usr/local/lib/python3.10/dist-packages (from torch->-r unetTracker/requirements.txt (line 6)) (4.5.0)\n",
      "Requirement already satisfied: sympy in /usr/local/lib/python3.10/dist-packages (from torch->-r unetTracker/requirements.txt (line 6)) (1.12)\n",
      "Requirement already satisfied: networkx in /usr/local/lib/python3.10/dist-packages (from torch->-r unetTracker/requirements.txt (line 6)) (3.2.1)\n",
      "Requirement already satisfied: fsspec in /usr/local/lib/python3.10/dist-packages (from torch->-r unetTracker/requirements.txt (line 6)) (2023.6.0)\n",
      "Requirement already satisfied: triton==2.1.0 in /usr/local/lib/python3.10/dist-packages (from torch->-r unetTracker/requirements.txt (line 6)) (2.1.0)\n",
      "Requirement already satisfied: requests in /usr/local/lib/python3.10/dist-packages (from torchvision->-r unetTracker/requirements.txt (line 7)) (2.31.0)\n",
      "Requirement already satisfied: six in /usr/local/lib/python3.10/dist-packages (from imgaug->-r unetTracker/requirements.txt (line 9)) (1.16.0)\n",
      "Requirement already satisfied: opencv-python in /usr/local/lib/python3.10/dist-packages (from imgaug->-r unetTracker/requirements.txt (line 9)) (4.8.0.76)\n",
      "Requirement already satisfied: imageio in /usr/local/lib/python3.10/dist-packages (from imgaug->-r unetTracker/requirements.txt (line 9)) (2.31.6)\n",
      "Requirement already satisfied: Shapely in /usr/local/lib/python3.10/dist-packages (from imgaug->-r unetTracker/requirements.txt (line 9)) (2.0.2)\n",
      "Requirement already satisfied: jupyter-client in /usr/local/lib/python3.10/dist-packages (from ipykernel>=4.5.1->ipywidgets->-r unetTracker/requirements.txt (line 1)) (6.1.12)\n",
      "Requirement already satisfied: setuptools>=18.5 in /usr/local/lib/python3.10/dist-packages (from ipython>=4.0.0->ipywidgets->-r unetTracker/requirements.txt (line 1)) (67.7.2)\n",
      "Collecting jedi>=0.16 (from ipython>=4.0.0->ipywidgets->-r unetTracker/requirements.txt (line 1))\n",
      "  Downloading jedi-0.19.1-py2.py3-none-any.whl (1.6 MB)\n",
      "\u001b[2K     \u001b[90m━━━━━━━━━━━━━━━━━━━━━━━━━━━━━━━━━━━━━━━━\u001b[0m \u001b[32m1.6/1.6 MB\u001b[0m \u001b[31m41.0 MB/s\u001b[0m eta \u001b[36m0:00:00\u001b[0m\n",
      "\u001b[?25hRequirement already satisfied: decorator in /usr/local/lib/python3.10/dist-packages (from ipython>=4.0.0->ipywidgets->-r unetTracker/requirements.txt (line 1)) (4.4.2)\n",
      "Requirement already satisfied: pickleshare in /usr/local/lib/python3.10/dist-packages (from ipython>=4.0.0->ipywidgets->-r unetTracker/requirements.txt (line 1)) (0.7.5)\n",
      "Requirement already satisfied: prompt-toolkit!=3.0.0,!=3.0.1,<3.1.0,>=2.0.0 in /usr/local/lib/python3.10/dist-packages (from ipython>=4.0.0->ipywidgets->-r unetTracker/requirements.txt (line 1)) (3.0.41)\n",
      "Requirement already satisfied: pygments in /usr/local/lib/python3.10/dist-packages (from ipython>=4.0.0->ipywidgets->-r unetTracker/requirements.txt (line 1)) (2.16.1)\n",
      "Requirement already satisfied: backcall in /usr/local/lib/python3.10/dist-packages (from ipython>=4.0.0->ipywidgets->-r unetTracker/requirements.txt (line 1)) (0.2.0)\n",
      "Requirement already satisfied: matplotlib-inline in /usr/local/lib/python3.10/dist-packages (from ipython>=4.0.0->ipywidgets->-r unetTracker/requirements.txt (line 1)) (0.1.6)\n",
      "Requirement already satisfied: pexpect>4.3 in /usr/local/lib/python3.10/dist-packages (from ipython>=4.0.0->ipywidgets->-r unetTracker/requirements.txt (line 1)) (4.8.0)\n",
      "Requirement already satisfied: MarkupSafe>=2.0 in /usr/local/lib/python3.10/dist-packages (from jinja2>=3.0.3->jupyterlab->-r unetTracker/requirements.txt (line 2)) (2.1.3)\n",
      "Requirement already satisfied: anyio>=3.1.0 in /usr/local/lib/python3.10/dist-packages (from jupyter-server<3,>=2.4.0->jupyterlab->-r unetTracker/requirements.txt (line 2)) (3.7.1)\n",
      "Requirement already satisfied: argon2-cffi in /usr/local/lib/python3.10/dist-packages (from jupyter-server<3,>=2.4.0->jupyterlab->-r unetTracker/requirements.txt (line 2)) (23.1.0)\n",
      "Collecting jupyter-client (from ipykernel>=4.5.1->ipywidgets->-r unetTracker/requirements.txt (line 1))\n",
      "  Downloading jupyter_client-8.6.0-py3-none-any.whl (105 kB)\n",
      "\u001b[2K     \u001b[90m━━━━━━━━━━━━━━━━━━━━━━━━━━━━━━━━━━━━━━━━\u001b[0m \u001b[32m105.9/105.9 kB\u001b[0m \u001b[31m15.6 MB/s\u001b[0m eta \u001b[36m0:00:00\u001b[0m\n",
      "\u001b[?25hCollecting jupyter-events>=0.9.0 (from jupyter-server<3,>=2.4.0->jupyterlab->-r unetTracker/requirements.txt (line 2))\n",
      "  Downloading jupyter_events-0.9.0-py3-none-any.whl (18 kB)\n",
      "Collecting jupyter-server-terminals (from jupyter-server<3,>=2.4.0->jupyterlab->-r unetTracker/requirements.txt (line 2))\n",
      "  Downloading jupyter_server_terminals-0.4.4-py3-none-any.whl (13 kB)\n",
      "Requirement already satisfied: nbconvert>=6.4.4 in /usr/local/lib/python3.10/dist-packages (from jupyter-server<3,>=2.4.0->jupyterlab->-r unetTracker/requirements.txt (line 2)) (6.5.4)\n",
      "Requirement already satisfied: nbformat>=5.3.0 in /usr/local/lib/python3.10/dist-packages (from jupyter-server<3,>=2.4.0->jupyterlab->-r unetTracker/requirements.txt (line 2)) (5.9.2)\n",
      "Collecting overrides (from jupyter-server<3,>=2.4.0->jupyterlab->-r unetTracker/requirements.txt (line 2))\n",
      "  Downloading overrides-7.4.0-py3-none-any.whl (17 kB)\n",
      "Requirement already satisfied: prometheus-client in /usr/local/lib/python3.10/dist-packages (from jupyter-server<3,>=2.4.0->jupyterlab->-r unetTracker/requirements.txt (line 2)) (0.18.0)\n",
      "Collecting pyzmq>=24 (from jupyter-server<3,>=2.4.0->jupyterlab->-r unetTracker/requirements.txt (line 2))\n",
      "  Downloading pyzmq-25.1.1-cp310-cp310-manylinux_2_28_x86_64.whl (1.1 MB)\n",
      "\u001b[2K     \u001b[90m━━━━━━━━━━━━━━━━━━━━━━━━━━━━━━━━━━━━━━━━\u001b[0m \u001b[32m1.1/1.1 MB\u001b[0m \u001b[31m45.8 MB/s\u001b[0m eta \u001b[36m0:00:00\u001b[0m\n",
      "\u001b[?25hRequirement already satisfied: send2trash>=1.8.2 in /usr/local/lib/python3.10/dist-packages (from jupyter-server<3,>=2.4.0->jupyterlab->-r unetTracker/requirements.txt (line 2)) (1.8.2)\n",
      "Requirement already satisfied: terminado>=0.8.3 in /usr/local/lib/python3.10/dist-packages (from jupyter-server<3,>=2.4.0->jupyterlab->-r unetTracker/requirements.txt (line 2)) (0.18.0)\n",
      "Requirement already satisfied: websocket-client in /usr/local/lib/python3.10/dist-packages (from jupyter-server<3,>=2.4.0->jupyterlab->-r unetTracker/requirements.txt (line 2)) (1.6.4)\n",
      "Requirement already satisfied: platformdirs>=2.5 in /usr/local/lib/python3.10/dist-packages (from jupyter-core->jupyterlab->-r unetTracker/requirements.txt (line 2)) (4.0.0)\n",
      "Requirement already satisfied: babel>=2.10 in /usr/local/lib/python3.10/dist-packages (from jupyterlab-server<3,>=2.19.0->jupyterlab->-r unetTracker/requirements.txt (line 2)) (2.13.1)\n",
      "Collecting json5>=0.9.0 (from jupyterlab-server<3,>=2.19.0->jupyterlab->-r unetTracker/requirements.txt (line 2))\n",
      "  Downloading json5-0.9.14-py2.py3-none-any.whl (19 kB)\n",
      "Requirement already satisfied: jsonschema>=4.18.0 in /usr/local/lib/python3.10/dist-packages (from jupyterlab-server<3,>=2.19.0->jupyterlab->-r unetTracker/requirements.txt (line 2)) (4.19.2)\n",
      "Requirement already satisfied: scikit-learn>=0.19.1 in /usr/local/lib/python3.10/dist-packages (from qudida>=0.0.4->albumentations==1.3.0->-r unetTracker/requirements.txt (line 10)) (1.2.2)\n",
      "Requirement already satisfied: charset-normalizer<4,>=2 in /usr/local/lib/python3.10/dist-packages (from requests->torchvision->-r unetTracker/requirements.txt (line 7)) (3.3.2)\n",
      "Requirement already satisfied: idna<4,>=2.5 in /usr/local/lib/python3.10/dist-packages (from requests->torchvision->-r unetTracker/requirements.txt (line 7)) (3.4)\n",
      "Requirement already satisfied: urllib3<3,>=1.21.1 in /usr/local/lib/python3.10/dist-packages (from requests->torchvision->-r unetTracker/requirements.txt (line 7)) (2.0.7)\n",
      "Requirement already satisfied: certifi>=2017.4.17 in /usr/local/lib/python3.10/dist-packages (from requests->torchvision->-r unetTracker/requirements.txt (line 7)) (2023.7.22)\n",
      "Requirement already satisfied: tifffile>=2019.7.26 in /usr/local/lib/python3.10/dist-packages (from scikit-image>=0.16.1->albumentations==1.3.0->-r unetTracker/requirements.txt (line 10)) (2023.9.26)\n",
      "Requirement already satisfied: PyWavelets>=1.1.1 in /usr/local/lib/python3.10/dist-packages (from scikit-image>=0.16.1->albumentations==1.3.0->-r unetTracker/requirements.txt (line 10)) (1.4.1)\n",
      "Requirement already satisfied: notebook>=4.4.1 in /usr/local/lib/python3.10/dist-packages (from widgetsnbextension~=3.6.0->ipywidgets->-r unetTracker/requirements.txt (line 1)) (6.5.5)\n",
      "Requirement already satisfied: mpmath>=0.19 in /usr/local/lib/python3.10/dist-packages (from sympy->torch->-r unetTracker/requirements.txt (line 6)) (1.3.0)\n",
      "Requirement already satisfied: sniffio>=1.1 in /usr/local/lib/python3.10/dist-packages (from anyio>=3.1.0->jupyter-server<3,>=2.4.0->jupyterlab->-r unetTracker/requirements.txt (line 2)) (1.3.0)\n",
      "Requirement already satisfied: exceptiongroup in /usr/local/lib/python3.10/dist-packages (from anyio>=3.1.0->jupyter-server<3,>=2.4.0->jupyterlab->-r unetTracker/requirements.txt (line 2)) (1.1.3)\n",
      "Requirement already satisfied: parso<0.9.0,>=0.8.3 in /usr/local/lib/python3.10/dist-packages (from jedi>=0.16->ipython>=4.0.0->ipywidgets->-r unetTracker/requirements.txt (line 1)) (0.8.3)\n",
      "Requirement already satisfied: attrs>=22.2.0 in /usr/local/lib/python3.10/dist-packages (from jsonschema>=4.18.0->jupyterlab-server<3,>=2.19.0->jupyterlab->-r unetTracker/requirements.txt (line 2)) (23.1.0)\n",
      "Requirement already satisfied: jsonschema-specifications>=2023.03.6 in /usr/local/lib/python3.10/dist-packages (from jsonschema>=4.18.0->jupyterlab-server<3,>=2.19.0->jupyterlab->-r unetTracker/requirements.txt (line 2)) (2023.11.1)\n",
      "Requirement already satisfied: referencing>=0.28.4 in /usr/local/lib/python3.10/dist-packages (from jsonschema>=4.18.0->jupyterlab-server<3,>=2.19.0->jupyterlab->-r unetTracker/requirements.txt (line 2)) (0.31.0)\n",
      "Requirement already satisfied: rpds-py>=0.7.1 in /usr/local/lib/python3.10/dist-packages (from jsonschema>=4.18.0->jupyterlab-server<3,>=2.19.0->jupyterlab->-r unetTracker/requirements.txt (line 2)) (0.13.0)\n",
      "Collecting python-json-logger>=2.0.4 (from jupyter-events>=0.9.0->jupyter-server<3,>=2.4.0->jupyterlab->-r unetTracker/requirements.txt (line 2))\n",
      "  Downloading python_json_logger-2.0.7-py3-none-any.whl (8.1 kB)\n",
      "Collecting rfc3339-validator (from jupyter-events>=0.9.0->jupyter-server<3,>=2.4.0->jupyterlab->-r unetTracker/requirements.txt (line 2))\n",
      "  Downloading rfc3339_validator-0.1.4-py2.py3-none-any.whl (3.5 kB)\n",
      "Collecting rfc3986-validator>=0.1.1 (from jupyter-events>=0.9.0->jupyter-server<3,>=2.4.0->jupyterlab->-r unetTracker/requirements.txt (line 2))\n",
      "  Downloading rfc3986_validator-0.1.1-py2.py3-none-any.whl (4.2 kB)\n",
      "Requirement already satisfied: lxml in /usr/local/lib/python3.10/dist-packages (from nbconvert>=6.4.4->jupyter-server<3,>=2.4.0->jupyterlab->-r unetTracker/requirements.txt (line 2)) (4.9.3)\n",
      "Requirement already satisfied: beautifulsoup4 in /usr/local/lib/python3.10/dist-packages (from nbconvert>=6.4.4->jupyter-server<3,>=2.4.0->jupyterlab->-r unetTracker/requirements.txt (line 2)) (4.11.2)\n",
      "Requirement already satisfied: bleach in /usr/local/lib/python3.10/dist-packages (from nbconvert>=6.4.4->jupyter-server<3,>=2.4.0->jupyterlab->-r unetTracker/requirements.txt (line 2)) (6.1.0)\n",
      "Requirement already satisfied: defusedxml in /usr/local/lib/python3.10/dist-packages (from nbconvert>=6.4.4->jupyter-server<3,>=2.4.0->jupyterlab->-r unetTracker/requirements.txt (line 2)) (0.7.1)\n",
      "Requirement already satisfied: entrypoints>=0.2.2 in /usr/local/lib/python3.10/dist-packages (from nbconvert>=6.4.4->jupyter-server<3,>=2.4.0->jupyterlab->-r unetTracker/requirements.txt (line 2)) (0.4)\n",
      "Requirement already satisfied: jupyterlab-pygments in /usr/local/lib/python3.10/dist-packages (from nbconvert>=6.4.4->jupyter-server<3,>=2.4.0->jupyterlab->-r unetTracker/requirements.txt (line 2)) (0.2.2)\n",
      "Requirement already satisfied: mistune<2,>=0.8.1 in /usr/local/lib/python3.10/dist-packages (from nbconvert>=6.4.4->jupyter-server<3,>=2.4.0->jupyterlab->-r unetTracker/requirements.txt (line 2)) (0.8.4)\n",
      "Requirement already satisfied: nbclient>=0.5.0 in /usr/local/lib/python3.10/dist-packages (from nbconvert>=6.4.4->jupyter-server<3,>=2.4.0->jupyterlab->-r unetTracker/requirements.txt (line 2)) (0.9.0)\n",
      "Requirement already satisfied: pandocfilters>=1.4.1 in /usr/local/lib/python3.10/dist-packages (from nbconvert>=6.4.4->jupyter-server<3,>=2.4.0->jupyterlab->-r unetTracker/requirements.txt (line 2)) (1.5.0)\n",
      "Requirement already satisfied: tinycss2 in /usr/local/lib/python3.10/dist-packages (from nbconvert>=6.4.4->jupyter-server<3,>=2.4.0->jupyterlab->-r unetTracker/requirements.txt (line 2)) (1.2.1)\n",
      "Requirement already satisfied: fastjsonschema in /usr/local/lib/python3.10/dist-packages (from nbformat>=5.3.0->jupyter-server<3,>=2.4.0->jupyterlab->-r unetTracker/requirements.txt (line 2)) (2.19.0)\n",
      "Collecting pyzmq>=24 (from jupyter-server<3,>=2.4.0->jupyterlab->-r unetTracker/requirements.txt (line 2))\n",
      "  Downloading pyzmq-24.0.1-cp310-cp310-manylinux_2_17_x86_64.manylinux2014_x86_64.whl (1.1 MB)\n",
      "\u001b[2K     \u001b[90m━━━━━━━━━━━━━━━━━━━━━━━━━━━━━━━━━━━━━━━━\u001b[0m \u001b[32m1.1/1.1 MB\u001b[0m \u001b[31m46.8 MB/s\u001b[0m eta \u001b[36m0:00:00\u001b[0m\n",
      "\u001b[?25hCollecting jupyter-client (from ipykernel>=4.5.1->ipywidgets->-r unetTracker/requirements.txt (line 1))\n",
      "  Downloading jupyter_client-7.4.9-py3-none-any.whl (133 kB)\n",
      "\u001b[2K     \u001b[90m━━━━━━━━━━━━━━━━━━━━━━━━━━━━━━━━━━━━━━━━\u001b[0m \u001b[32m133.5/133.5 kB\u001b[0m \u001b[31m18.1 MB/s\u001b[0m eta \u001b[36m0:00:00\u001b[0m\n",
      "\u001b[?25hRequirement already satisfied: nest-asyncio>=1.5 in /usr/local/lib/python3.10/dist-packages (from notebook>=4.4.1->widgetsnbextension~=3.6.0->ipywidgets->-r unetTracker/requirements.txt (line 1)) (1.5.8)\n",
      "Requirement already satisfied: nbclassic>=0.4.7 in /usr/local/lib/python3.10/dist-packages (from notebook>=4.4.1->widgetsnbextension~=3.6.0->ipywidgets->-r unetTracker/requirements.txt (line 1)) (1.0.0)\n",
      "Requirement already satisfied: ptyprocess>=0.5 in /usr/local/lib/python3.10/dist-packages (from pexpect>4.3->ipython>=4.0.0->ipywidgets->-r unetTracker/requirements.txt (line 1)) (0.7.0)\n",
      "Requirement already satisfied: wcwidth in /usr/local/lib/python3.10/dist-packages (from prompt-toolkit!=3.0.0,!=3.0.1,<3.1.0,>=2.0.0->ipython>=4.0.0->ipywidgets->-r unetTracker/requirements.txt (line 1)) (0.2.10)\n",
      "Requirement already satisfied: joblib>=1.1.1 in /usr/local/lib/python3.10/dist-packages (from scikit-learn>=0.19.1->qudida>=0.0.4->albumentations==1.3.0->-r unetTracker/requirements.txt (line 10)) (1.3.2)\n",
      "Requirement already satisfied: threadpoolctl>=2.0.0 in /usr/local/lib/python3.10/dist-packages (from scikit-learn>=0.19.1->qudida>=0.0.4->albumentations==1.3.0->-r unetTracker/requirements.txt (line 10)) (3.2.0)\n",
      "Requirement already satisfied: argon2-cffi-bindings in /usr/local/lib/python3.10/dist-packages (from argon2-cffi->jupyter-server<3,>=2.4.0->jupyterlab->-r unetTracker/requirements.txt (line 2)) (21.2.0)\n",
      "Collecting fqdn (from jsonschema>=4.18.0->jupyterlab-server<3,>=2.19.0->jupyterlab->-r unetTracker/requirements.txt (line 2))\n",
      "  Downloading fqdn-1.5.1-py3-none-any.whl (9.1 kB)\n",
      "Collecting isoduration (from jsonschema>=4.18.0->jupyterlab-server<3,>=2.19.0->jupyterlab->-r unetTracker/requirements.txt (line 2))\n",
      "  Downloading isoduration-20.11.0-py3-none-any.whl (11 kB)\n",
      "Collecting jsonpointer>1.13 (from jsonschema>=4.18.0->jupyterlab-server<3,>=2.19.0->jupyterlab->-r unetTracker/requirements.txt (line 2))\n",
      "  Downloading jsonpointer-2.4-py2.py3-none-any.whl (7.8 kB)\n",
      "Collecting uri-template (from jsonschema>=4.18.0->jupyterlab-server<3,>=2.19.0->jupyterlab->-r unetTracker/requirements.txt (line 2))\n",
      "  Downloading uri_template-1.3.0-py3-none-any.whl (11 kB)\n",
      "Requirement already satisfied: webcolors>=1.11 in /usr/local/lib/python3.10/dist-packages (from jsonschema>=4.18.0->jupyterlab-server<3,>=2.19.0->jupyterlab->-r unetTracker/requirements.txt (line 2)) (1.13)\n",
      "Requirement already satisfied: cffi>=1.0.1 in /usr/local/lib/python3.10/dist-packages (from argon2-cffi-bindings->argon2-cffi->jupyter-server<3,>=2.4.0->jupyterlab->-r unetTracker/requirements.txt (line 2)) (1.16.0)\n",
      "Requirement already satisfied: soupsieve>1.2 in /usr/local/lib/python3.10/dist-packages (from beautifulsoup4->nbconvert>=6.4.4->jupyter-server<3,>=2.4.0->jupyterlab->-r unetTracker/requirements.txt (line 2)) (2.5)\n",
      "Requirement already satisfied: webencodings in /usr/local/lib/python3.10/dist-packages (from bleach->nbconvert>=6.4.4->jupyter-server<3,>=2.4.0->jupyterlab->-r unetTracker/requirements.txt (line 2)) (0.5.1)\n",
      "Requirement already satisfied: pycparser in /usr/local/lib/python3.10/dist-packages (from cffi>=1.0.1->argon2-cffi-bindings->argon2-cffi->jupyter-server<3,>=2.4.0->jupyterlab->-r unetTracker/requirements.txt (line 2)) (2.21)\n",
      "Collecting arrow>=0.15.0 (from isoduration->jsonschema>=4.18.0->jupyterlab-server<3,>=2.19.0->jupyterlab->-r unetTracker/requirements.txt (line 2))\n",
      "  Downloading arrow-1.3.0-py3-none-any.whl (66 kB)\n",
      "\u001b[2K     \u001b[90m━━━━━━━━━━━━━━━━━━━━━━━━━━━━━━━━━━━━━━━━\u001b[0m \u001b[32m66.4/66.4 kB\u001b[0m \u001b[31m8.8 MB/s\u001b[0m eta \u001b[36m0:00:00\u001b[0m\n",
      "\u001b[?25hCollecting types-python-dateutil>=2.8.10 (from arrow>=0.15.0->isoduration->jsonschema>=4.18.0->jupyterlab-server<3,>=2.19.0->jupyterlab->-r unetTracker/requirements.txt (line 2))\n",
      "  Downloading types_python_dateutil-2.8.19.14-py3-none-any.whl (9.4 kB)\n",
      "Installing collected packages: types-python-dateutil, json5, uri-template, rfc3986-validator, rfc3339-validator, pyzmq, python-json-logger, overrides, jsonpointer, jedi, fqdn, async-lru, jupyter-server-terminals, jupyter-client, arrow, isoduration, jupyter-events, jupyter-server, jupyterlab-server, jupyter-lsp, jupyterlab, ipympl\n",
      "  Attempting uninstall: pyzmq\n",
      "    Found existing installation: pyzmq 23.2.1\n",
      "    Uninstalling pyzmq-23.2.1:\n",
      "      Successfully uninstalled pyzmq-23.2.1\n",
      "  Attempting uninstall: jupyter-client\n",
      "    Found existing installation: jupyter-client 6.1.12\n",
      "    Uninstalling jupyter-client-6.1.12:\n",
      "      Successfully uninstalled jupyter-client-6.1.12\n",
      "  Attempting uninstall: jupyter-server\n",
      "    Found existing installation: jupyter-server 1.24.0\n",
      "    Uninstalling jupyter-server-1.24.0:\n",
      "      Successfully uninstalled jupyter-server-1.24.0\n",
      "Successfully installed arrow-1.3.0 async-lru-2.0.4 fqdn-1.5.1 ipympl-0.9.3 isoduration-20.11.0 jedi-0.19.1 json5-0.9.14 jsonpointer-2.4 jupyter-client-7.4.9 jupyter-events-0.9.0 jupyter-lsp-2.2.0 jupyter-server-2.11.0 jupyter-server-terminals-0.4.4 jupyterlab-4.0.9 jupyterlab-server-2.25.2 overrides-7.4.0 python-json-logger-2.0.7 pyzmq-24.0.1 rfc3339-validator-0.1.4 rfc3986-validator-0.1.1 types-python-dateutil-2.8.19.14 uri-template-1.3.0\n"
     ]
    },
    {
     "data": {
      "application/vnd.colab-display-data+json": {
       "pip_warning": {
        "packages": [
         "zmq"
        ]
       }
      }
     },
     "metadata": {},
     "output_type": "display_data"
    },
    {
     "name": "stdout",
     "output_type": "stream",
     "text": [
      "Obtaining file:///content/unetTracker\n",
      "  Installing build dependencies ... \u001b[?25l\u001b[?25hdone\n",
      "  Checking if build backend supports build_editable ... \u001b[?25l\u001b[?25hdone\n",
      "  Getting requirements to build editable ... \u001b[?25l\u001b[?25hdone\n",
      "  Installing backend dependencies ... \u001b[?25l\u001b[?25hdone\n",
      "  Preparing editable metadata (pyproject.toml) ... \u001b[?25l\u001b[?25hdone\n",
      "Building wheels for collected packages: unetTracker\n",
      "  Building editable for unetTracker (pyproject.toml) ... \u001b[?25l\u001b[?25hdone\n",
      "  Created wheel for unetTracker: filename=unetTracker-0.0.1-0.editable-py3-none-any.whl size=15897 sha256=098e2b1dcf7532e4afee301e1598922da931d91fff37da3f4dc059cfedb87d7d\n",
      "  Stored in directory: /tmp/pip-ephem-wheel-cache-iqtsvgv6/wheels/62/9b/5a/0cb547490a9187d698861d98e1e803c5e64f31a9d899a8e84c\n",
      "Successfully built unetTracker\n",
      "Installing collected packages: unetTracker\n",
      "Successfully installed unetTracker-0.0.1\n"
     ]
    }
   ],
   "source": [
    "!pip install albumentations==1.3.0\n",
    "!git clone https://github.com/kevin-allen/unetTracker\n",
    "!pip install -r unetTracker/requirements.txt\n",
    "!pip install -e unetTracker"
   ]
  },
  {
   "cell_type": "markdown",
   "id": "VsA-zUtBUQXN",
   "metadata": {
    "id": "VsA-zUtBUQXN"
   },
   "source": [
    "You now need to restart your runtime to be able to use unet-tracker. You can press the button above.\n",
    "\n",
    "We are now going to mount your google drive so that we can access the unet-tracker project directory. Running the code below should open a window in your browser and you will need to give permission to Google Colab to access Google Drive."
   ]
  },
  {
   "cell_type": "code",
   "execution_count": 1,
   "id": "WpC4ktHoUmQs",
   "metadata": {
    "colab": {
     "base_uri": "https://localhost:8080/"
    },
    "executionInfo": {
     "elapsed": 1717,
     "status": "ok",
     "timestamp": 1700653324946,
     "user": {
      "displayName": "Kevin Allen",
      "userId": "15732675083736573970"
     },
     "user_tz": -60
    },
    "id": "WpC4ktHoUmQs",
    "outputId": "a92233f5-a6fa-4635-ba04-99aeae3b463c"
   },
   "outputs": [
    {
     "name": "stdout",
     "output_type": "stream",
     "text": [
      "Drive already mounted at /content/drive; to attempt to forcibly remount, call drive.mount(\"/content/drive\", force_remount=True).\n"
     ]
    }
   ],
   "source": [
    "from google.colab import drive\n",
    "drive.mount('/content/drive')"
   ]
  },
  {
   "cell_type": "code",
   "execution_count": 2,
   "id": "KWL0qPGCUvRD",
   "metadata": {
    "colab": {
     "base_uri": "https://localhost:8080/"
    },
    "executionInfo": {
     "elapsed": 4,
     "status": "ok",
     "timestamp": 1700653325410,
     "user": {
      "displayName": "Kevin Allen",
      "userId": "15732675083736573970"
     },
     "user_tz": -60
    },
    "id": "KWL0qPGCUvRD",
    "outputId": "5ce86b89-94db-4780-c621-b6f36fd5de2a"
   },
   "outputs": [
    {
     "name": "stdout",
     "output_type": "stream",
     "text": [
      "We can access the unet-tracker project directory.\n"
     ]
    }
   ],
   "source": [
    "import os\n",
    "fn = \"/content/drive/My Drive/teaching_thesis_taq/Data_science_neuroscience/master_neuroscience_2023/unetTracker/finger_tracker/config.yalm\"\n",
    "if os.path.exists(fn):\n",
    "  print(\"We can access the unet-tracker project directory.\")\n",
    "else:\n",
    "  raise IOError(\"Problem accessing the unet-tracker project directory.\")"
   ]
  },
  {
   "cell_type": "code",
   "execution_count": 3,
   "id": "94e1ac6d",
   "metadata": {
    "executionInfo": {
     "elapsed": 10865,
     "status": "ok",
     "timestamp": 1700653338209,
     "user": {
      "displayName": "Kevin Allen",
      "userId": "15732675083736573970"
     },
     "user_tz": -60
    },
    "id": "94e1ac6d"
   },
   "outputs": [],
   "source": [
    "import torch\n",
    "from torch.utils.data import DataLoader\n",
    "import numpy as np\n",
    "import matplotlib.pyplot as plt\n",
    "\n",
    "from tqdm import tqdm\n",
    "from torch import optim\n",
    "import torch.nn as nn\n",
    "from datetime import datetime\n",
    "import albumentations as A\n",
    "import cv2\n",
    "import os\n",
    "import pickle\n",
    "\n",
    "from unetTracker.trackingProject import TrackingProject\n",
    "from unetTracker.dataset import UNetDataset\n",
    "from unetTracker.unet import Unet\n",
    "from unetTracker.coordinatesFromSegmentationMask import CoordinatesFromSegmentationMask\n",
    "from unetTracker.utils import check_accuracy"
   ]
  },
  {
   "cell_type": "code",
   "execution_count": 4,
   "id": "8fd6f0b4",
   "metadata": {
    "colab": {
     "base_uri": "https://localhost:8080/"
    },
    "executionInfo": {
     "elapsed": 380,
     "status": "ok",
     "timestamp": 1700653339805,
     "user": {
      "displayName": "Kevin Allen",
      "userId": "15732675083736573970"
     },
     "user_tz": -60
    },
    "id": "8fd6f0b4",
    "outputId": "76cb1b36-d6a2-4713-f3ea-f2dec49b5f5e"
   },
   "outputs": [
    {
     "name": "stdout",
     "output_type": "stream",
     "text": [
      "Project directory: /content/drive/My Drive/teaching_thesis_taq/Data_science_neuroscience/master_neuroscience_2023/unetTracker/finger_tracker\n",
      "Getting configuration from config file. Values from config file will be used.\n",
      "Loading /content/drive/My Drive/teaching_thesis_taq/Data_science_neuroscience/master_neuroscience_2023/unetTracker/finger_tracker/config.yalm\n",
      "{'augmentation_HorizontalFlipProb': 0.0, 'augmentation_RandomBrightnessContrastProb': 0.2, 'augmentation_RandomSizedCropProb': 1.0, 'augmentation_RotateProb': 0.3, 'image_extension': '.png', 'image_size': [270, 480], 'labeling_ImageEnlargeFactor': 2.0, 'name': 'finger_tracker', 'normalization_values': {'means': [0.40835028886795044, 0.4549056589603424, 0.51627117395401], 'stds': [0.23996737599372864, 0.251758873462677, 0.26929107308387756]}, 'object_colors': [(0.0, 0.0, 255.0), (255.0, 0.0, 0.0), (255.0, 255.0, 0.0), (240.0, 255.0, 255.0)], 'objects': ['f1', 'f2', 'f3', 'f4'], 'target_radius': 6, 'unet_features': [64, 128, 256, 512]}\n"
     ]
    }
   ],
   "source": [
    "project = TrackingProject(name=\"finger_tracker\",\n",
    "                          root_folder = \"/content/drive/My Drive/teaching_thesis_taq/Data_science_neuroscience/master_neuroscience_2023/unetTracker/\")"
   ]
  },
  {
   "cell_type": "markdown",
   "id": "8NRFuyEMXcFY",
   "metadata": {
    "id": "8NRFuyEMXcFY"
   },
   "source": [
    "We can check if torch has access to a GPU."
   ]
  },
  {
   "cell_type": "code",
   "execution_count": 5,
   "id": "MjgrkTtUXO1x",
   "metadata": {
    "colab": {
     "base_uri": "https://localhost:8080/"
    },
    "executionInfo": {
     "elapsed": 238,
     "status": "ok",
     "timestamp": 1700653341725,
     "user": {
      "displayName": "Kevin Allen",
      "userId": "15732675083736573970"
     },
     "user_tz": -60
    },
    "id": "MjgrkTtUXO1x",
    "outputId": "ced3fa0b-e711-4380-bc1b-2d6b3113c819"
   },
   "outputs": [
    {
     "data": {
      "text/plain": [
       "(True, 'Tesla T4')"
      ]
     },
     "execution_count": 5,
     "metadata": {},
     "output_type": "execute_result"
    }
   ],
   "source": [
    "torch.cuda.is_available(),torch.cuda.get_device_name(0)"
   ]
  },
  {
   "cell_type": "markdown",
   "id": "e1e72331",
   "metadata": {
    "id": "e1e72331"
   },
   "source": [
    "## Hyperparameters"
   ]
  },
  {
   "cell_type": "markdown",
   "id": "a1dd5f15-bbd9-4171-9b63-1b1b80432c61",
   "metadata": {
    "id": "a1dd5f15-bbd9-4171-9b63-1b1b80432c61"
   },
   "source": [
    "You can probably leave most of these parameters as they are.\n",
    "\n",
    "If it is the first time you train your model, you can set `LOAD_MODEL` to False. If you only want to refine your model quickly, you can set it to True.\n",
    "\n",
    "As a starting point, you can use ~100 epochs if you have between 400 to 1000 images."
   ]
  },
  {
   "cell_type": "code",
   "execution_count": 6,
   "id": "98657051",
   "metadata": {
    "executionInfo": {
     "elapsed": 259,
     "status": "ok",
     "timestamp": 1700653344189,
     "user": {
      "displayName": "Kevin Allen",
      "userId": "15732675083736573970"
     },
     "user_tz": -60
    },
    "id": "98657051"
   },
   "outputs": [],
   "source": [
    "LEARNING_RATE=1e-4\n",
    "DEVICE = (torch.device(\"cuda\") if torch.cuda.is_available() else torch.device(\"cpu\"))\n",
    "BATCH_SIZE=4\n",
    "NUM_EPOCHS = 150\n",
    "NUM_WORKERS = 2\n",
    "OUTPUT_CHANNELS = len(project.object_list)\n",
    "IMAGE_HEIGHT = project.image_size[0]\n",
    "IMAGE_WIDTH = project.image_size[1]\n",
    "PIN_MEMORY = True\n",
    "LOAD_MODEL = False\n",
    "TRAIN_IMAGE_DIR = os.path.join(project.dataset_dir,\"train_images\")\n",
    "TRAIN_MASK_DIR =  os.path.join(project.dataset_dir,\"train_masks\")\n",
    "TRAIN_COORDINATE_DIR = os.path.join(project.dataset_dir,\"train_coordinates\")\n",
    "VAL_IMAGE_DIR = os.path.join(project.dataset_dir,\"val_images\")\n",
    "VAL_MASK_DIR =  os.path.join(project.dataset_dir,\"val_masks\")\n",
    "VAL_COORDINATE_DIR = os.path.join(project.dataset_dir,\"val_coordinates\")"
   ]
  },
  {
   "cell_type": "markdown",
   "id": "e47a4d20",
   "metadata": {
    "id": "e47a4d20"
   },
   "source": [
    "## Model, loss, and optimizer"
   ]
  },
  {
   "cell_type": "code",
   "execution_count": 7,
   "id": "c4b15df7",
   "metadata": {
    "executionInfo": {
     "elapsed": 2263,
     "status": "ok",
     "timestamp": 1700653348954,
     "user": {
      "displayName": "Kevin Allen",
      "userId": "15732675083736573970"
     },
     "user_tz": -60
    },
    "id": "c4b15df7"
   },
   "outputs": [],
   "source": [
    "model = Unet(in_channels=3, out_channels=OUTPUT_CHANNELS).to(DEVICE)\n",
    "if LOAD_MODEL:\n",
    "    project.load_model(model)\n",
    "\n",
    "# set the model in train mode\n",
    "model.train()\n",
    "\n",
    "loss_fn = nn.BCEWithLogitsLoss() # not doing sigmoid on the output of the model, so use this, if we had more classes (objects) we would use change out_chan and cross_entropy_loss as loss_fn\n",
    "optimizer= optim.Adam(model.parameters(),lr=LEARNING_RATE)\n",
    "scaler = torch.cuda.amp.GradScaler()"
   ]
  },
  {
   "cell_type": "markdown",
   "id": "41646fd7",
   "metadata": {
    "id": "41646fd7",
    "tags": []
   },
   "source": [
    "## Data augmentation and normalization\n",
    "\n"
   ]
  },
  {
   "cell_type": "code",
   "execution_count": 8,
   "id": "cbdddb42",
   "metadata": {
    "colab": {
     "base_uri": "https://localhost:8080/"
    },
    "executionInfo": {
     "elapsed": 512,
     "status": "ok",
     "timestamp": 1700653353045,
     "user": {
      "displayName": "Kevin Allen",
      "userId": "15732675083736573970"
     },
     "user_tz": -60
    },
    "id": "cbdddb42",
    "outputId": "9da611cd-740f-47ed-a4f2-3cb617f4b081"
   },
   "outputs": [
    {
     "name": "stdout",
     "output_type": "stream",
     "text": [
      "Loading trainTransform from /content/drive/My Drive/teaching_thesis_taq/Data_science_neuroscience/master_neuroscience_2023/unetTracker/finger_tracker/augmentation/trainTransform\n",
      "Loading valTransform from /content/drive/My Drive/teaching_thesis_taq/Data_science_neuroscience/master_neuroscience_2023/unetTracker/finger_tracker/augmentation/valTransform\n"
     ]
    }
   ],
   "source": [
    "fileName = os.path.join(project.augmentation_dir,\"trainTransform\")\n",
    "print(\"Loading trainTransform from\", fileName)\n",
    "trainTransform=pickle.load(open(fileName,\"rb\" ))\n",
    "\n",
    "fileName = os.path.join(project.augmentation_dir,\"valTransform\")\n",
    "print(\"Loading valTransform from\", fileName)\n",
    "valTransform=pickle.load(open(fileName, \"rb\" ))"
   ]
  },
  {
   "cell_type": "markdown",
   "id": "1f35254b",
   "metadata": {
    "id": "1f35254b"
   },
   "source": [
    "## Datasets and DataLoaders"
   ]
  },
  {
   "cell_type": "code",
   "execution_count": 9,
   "id": "bb48e25b",
   "metadata": {
    "executionInfo": {
     "elapsed": 400,
     "status": "ok",
     "timestamp": 1700653355697,
     "user": {
      "displayName": "Kevin Allen",
      "userId": "15732675083736573970"
     },
     "user_tz": -60
    },
    "id": "bb48e25b"
   },
   "outputs": [],
   "source": [
    "trainDataset = UNetDataset(TRAIN_IMAGE_DIR, TRAIN_MASK_DIR,TRAIN_COORDINATE_DIR, transform=trainTransform)\n",
    "valDataset = UNetDataset(VAL_IMAGE_DIR, VAL_MASK_DIR,VAL_COORDINATE_DIR, transform=valTransform)\n",
    "trainLoader = DataLoader(trainDataset,shuffle=True,batch_size=BATCH_SIZE, num_workers=NUM_WORKERS,pin_memory=PIN_MEMORY)\n",
    "valLoader = DataLoader(valDataset,shuffle=False,batch_size=BATCH_SIZE, num_workers=NUM_WORKERS,pin_memory = PIN_MEMORY)"
   ]
  },
  {
   "cell_type": "code",
   "execution_count": 10,
   "id": "17b6560e",
   "metadata": {
    "colab": {
     "base_uri": "https://localhost:8080/"
    },
    "executionInfo": {
     "elapsed": 990,
     "status": "ok",
     "timestamp": 1700653367884,
     "user": {
      "displayName": "Kevin Allen",
      "userId": "15732675083736573970"
     },
     "user_tz": -60
    },
    "id": "17b6560e",
    "outputId": "584b4030-a45d-4f6d-f9e4-a6c09c33d3ce"
   },
   "outputs": [
    {
     "data": {
      "text/plain": [
       "(torch.Size([4, 3, 270, 480]), torch.Size([4, 4, 270, 480]))"
      ]
     },
     "execution_count": 10,
     "metadata": {},
     "output_type": "execute_result"
    }
   ],
   "source": [
    "imgs, masks, _ = next(iter(trainLoader))\n",
    "imgs.shape, masks.shape"
   ]
  },
  {
   "cell_type": "markdown",
   "id": "873d6ceb",
   "metadata": {
    "id": "873d6ceb"
   },
   "source": [
    "There is a lot of black because half of our pixels are below 0, on average.\n"
   ]
  },
  {
   "cell_type": "markdown",
   "id": "2cd71a06",
   "metadata": {
    "id": "2cd71a06"
   },
   "source": [
    "# Save and load checkpoint"
   ]
  },
  {
   "cell_type": "code",
   "execution_count": 11,
   "id": "2448b867",
   "metadata": {
    "executionInfo": {
     "elapsed": 269,
     "status": "ok",
     "timestamp": 1700653370113,
     "user": {
      "displayName": "Kevin Allen",
      "userId": "15732675083736573970"
     },
     "user_tz": -60
    },
    "id": "2448b867"
   },
   "outputs": [],
   "source": [
    "def save_checkpoint(state, filename = \"my_checkpoint.pth.tar\"):\n",
    "    #print(\"Saving checkpoint\")\n",
    "    torch.save(state,filename)"
   ]
  },
  {
   "cell_type": "markdown",
   "id": "f3a27c99",
   "metadata": {
    "id": "f3a27c99"
   },
   "source": [
    "## Training loop\n",
    "\n",
    "This is where we train our model. Every few epochs, the performance of the model will be evaluated on the validation set.\n",
    "\n",
    "The task of the model is to learn to predict your masks. For each image in the dataset, you created a set of masks when you labelled the image. For one image, there is one mask per body part. The mask has the same size as your image.  Most pixels in the mask are set to 0, but the circle centered on the body part is set to 1.\n",
    "\n",
    "The task of the model is to output values for each mask that ressemble the mask you created while labeling the images. The loss function just measure the similarity between your masks and the output of the model.\n",
    "\n",
    "It ususally takes a 40-60 epochs before the model starts to mark the labeled positive pixels of your mask as positive pixels.\n",
    "\n",
    "During training, you should have a look at the printed output. If your model is learning, the loss will decrease over time."
   ]
  },
  {
   "cell_type": "code",
   "execution_count": 12,
   "id": "07d567c1",
   "metadata": {
    "executionInfo": {
     "elapsed": 512,
     "status": "ok",
     "timestamp": 1700653373115,
     "user": {
      "displayName": "Kevin Allen",
      "userId": "15732675083736573970"
     },
     "user_tz": -60
    },
    "id": "07d567c1"
   },
   "outputs": [],
   "source": [
    "def train_fn(loader,model,optimizer,loss_fn,scaler,epoch,total_epochs):\n",
    "    \"\"\"\n",
    "    One epoch of training\n",
    "    \"\"\"\n",
    "    loop = tqdm(loader)\n",
    "    for batch_idx, (data,targets,_) in enumerate(loop):\n",
    "        data = data.to(device=DEVICE)\n",
    "        targets = targets.to(device=DEVICE)\n",
    "\n",
    "        # forward\n",
    "        with torch.cuda.amp.autocast():\n",
    "            predictions = model(data)\n",
    "            loss = loss_fn(predictions,targets)\n",
    "\n",
    "\n",
    "        # backward\n",
    "        optimizer.zero_grad()\n",
    "        scaler.scale(loss).backward()\n",
    "        scaler.step(optimizer)\n",
    "        scaler.update()\n",
    "\n",
    "        # update tqdm loop\n",
    "        loop.set_postfix_str(\"loss: {:.7f}, epoch: {:d}/{:d}\".format(loss.item(),epoch,total_epochs))\n"
   ]
  },
  {
   "cell_type": "code",
   "execution_count": 13,
   "id": "0dbc7afe",
   "metadata": {
    "colab": {
     "base_uri": "https://localhost:8080/"
    },
    "executionInfo": {
     "elapsed": 1526079,
     "status": "ok",
     "timestamp": 1700654901889,
     "user": {
      "displayName": "Kevin Allen",
      "userId": "15732675083736573970"
     },
     "user_tz": -60
    },
    "id": "0dbc7afe",
    "outputId": "de753ba8-73d6-4ae8-9c7f-1ee7c8199aa2"
   },
   "outputs": [
    {
     "name": "stdout",
     "output_type": "stream",
     "text": [
      "Starting time: 2023-11-22 11:42:55.710790\n"
     ]
    },
    {
     "name": "stderr",
     "output_type": "stream",
     "text": [
      "\r",
      "  0%|          | 0/42 [00:00<?, ?it/s]/usr/local/lib/python3.10/dist-packages/torchvision/transforms/functional.py:1603: UserWarning: The default value of the antialias parameter of all the resizing transforms (Resize(), RandomResizedCrop(), etc.) will change from None to True in v0.17, in order to be consistent across the PIL and Tensor backends. To suppress this warning, directly pass antialias=True (recommended, future default), antialias=None (current default, which means False for Tensors and True for PIL), or antialias=False (only works on Tensors - PIL will still use antialiasing). This also applies if you are using the inference transforms from the models weights: update the call to weights.transforms(antialias=True).\n",
      "  warnings.warn(\n",
      "100%|██████████| 42/42 [00:11<00:00,  3.61it/s, loss: 0.5265929, epoch: 0/150]\n"
     ]
    },
    {
     "name": "stdout",
     "output_type": "stream",
     "text": [
      "Performance on validation set\n",
      "Number of positive pixels predicted: 181051.0\n",
      "Number of positive pixels in masks: 6431.0\n",
      "Percentage of positive pixels predicted: 2.183\n",
      "Percentage of positive pixels in masks: 0.078\n",
      "Accuracy: 97.740\n",
      "Dice score: 0.000\n",
      "Mask pixels detected (True positives): 0.078%\n",
      "False positives: 99.997%\n",
      "Mean distance: 132.01212023162395\n"
     ]
    },
    {
     "name": "stderr",
     "output_type": "stream",
     "text": [
      "100%|██████████| 42/42 [00:09<00:00,  4.32it/s, loss: 0.4740380, epoch: 1/150]\n",
      "100%|██████████| 42/42 [00:10<00:00,  4.14it/s, loss: 0.4363039, epoch: 2/150]\n",
      "100%|██████████| 42/42 [00:09<00:00,  4.25it/s, loss: 0.4041386, epoch: 3/150]\n",
      "100%|██████████| 42/42 [00:09<00:00,  4.34it/s, loss: 0.3769300, epoch: 4/150]\n",
      "100%|██████████| 42/42 [00:09<00:00,  4.37it/s, loss: 0.3473141, epoch: 5/150]\n"
     ]
    },
    {
     "name": "stdout",
     "output_type": "stream",
     "text": [
      "Performance on validation set\n",
      "Number of positive pixels predicted: 0.0\n",
      "Number of positive pixels in masks: 6431.0\n",
      "Percentage of positive pixels predicted: 0.000\n",
      "Percentage of positive pixels in masks: 0.078\n",
      "Accuracy: 99.922\n",
      "Dice score: 0.000\n",
      "Mask pixels detected (True positives): 0.000%\n",
      "False positives: nan%\n",
      "Mean distance: 110.27126238564456\n"
     ]
    },
    {
     "name": "stderr",
     "output_type": "stream",
     "text": [
      "100%|██████████| 42/42 [00:09<00:00,  4.42it/s, loss: 0.3220396, epoch: 6/150]\n",
      "100%|██████████| 42/42 [00:09<00:00,  4.33it/s, loss: 0.3014618, epoch: 7/150]\n",
      "100%|██████████| 42/42 [00:09<00:00,  4.46it/s, loss: 0.2813196, epoch: 8/150]\n",
      "100%|██████████| 42/42 [00:09<00:00,  4.36it/s, loss: 0.2580007, epoch: 9/150]\n",
      "100%|██████████| 42/42 [00:09<00:00,  4.37it/s, loss: 0.2459028, epoch: 10/150]\n"
     ]
    },
    {
     "name": "stdout",
     "output_type": "stream",
     "text": [
      "Performance on validation set\n",
      "Number of positive pixels predicted: 21.0\n",
      "Number of positive pixels in masks: 6431.0\n",
      "Percentage of positive pixels predicted: 0.000\n",
      "Percentage of positive pixels in masks: 0.078\n",
      "Accuracy: 99.922\n",
      "Dice score: 0.000\n",
      "Mask pixels detected (True positives): 0.000%\n",
      "False positives: 100.000%\n",
      "Mean distance: 157.27107486691747\n"
     ]
    },
    {
     "name": "stderr",
     "output_type": "stream",
     "text": [
      "100%|██████████| 42/42 [00:09<00:00,  4.40it/s, loss: 0.2240371, epoch: 11/150]\n",
      "100%|██████████| 42/42 [00:10<00:00,  4.16it/s, loss: 0.2099213, epoch: 12/150]\n",
      "100%|██████████| 42/42 [00:09<00:00,  4.41it/s, loss: 0.1940752, epoch: 13/150]\n",
      "100%|██████████| 42/42 [00:09<00:00,  4.35it/s, loss: 0.1793021, epoch: 14/150]\n",
      "100%|██████████| 42/42 [00:09<00:00,  4.45it/s, loss: 0.1659796, epoch: 15/150]\n"
     ]
    },
    {
     "name": "stdout",
     "output_type": "stream",
     "text": [
      "Performance on validation set\n",
      "Number of positive pixels predicted: 0.0\n",
      "Number of positive pixels in masks: 6431.0\n",
      "Percentage of positive pixels predicted: 0.000\n",
      "Percentage of positive pixels in masks: 0.078\n",
      "Accuracy: 99.922\n",
      "Dice score: 0.000\n",
      "Mask pixels detected (True positives): 0.000%\n",
      "False positives: nan%\n",
      "Mean distance: 116.91932582002268\n"
     ]
    },
    {
     "name": "stderr",
     "output_type": "stream",
     "text": [
      "100%|██████████| 42/42 [00:09<00:00,  4.50it/s, loss: 0.1725814, epoch: 16/150]\n",
      "100%|██████████| 42/42 [00:09<00:00,  4.30it/s, loss: 0.1426741, epoch: 17/150]\n",
      "100%|██████████| 42/42 [00:09<00:00,  4.45it/s, loss: 0.1348113, epoch: 18/150]\n",
      "100%|██████████| 42/42 [00:09<00:00,  4.35it/s, loss: 0.1239873, epoch: 19/150]\n",
      "100%|██████████| 42/42 [00:09<00:00,  4.42it/s, loss: 0.1171092, epoch: 20/150]\n"
     ]
    },
    {
     "name": "stdout",
     "output_type": "stream",
     "text": [
      "Performance on validation set\n"
     ]
    },
    {
     "name": "stderr",
     "output_type": "stream",
     "text": [
      "/content/unetTracker/unetTracker/utils.py:55: RuntimeWarning: Mean of empty slice\n",
      "  sum_distance+= np.nanmean(np.sqrt(((pred_coords[:,:,0:2] - c.numpy())**2).sum(axis=2))) # calculate the distance between predicted coordinates and the coordinates from the dataset.\n"
     ]
    },
    {
     "name": "stdout",
     "output_type": "stream",
     "text": [
      "Number of positive pixels predicted: 0.0\n",
      "Number of positive pixels in masks: 6431.0\n",
      "Percentage of positive pixels predicted: 0.000\n",
      "Percentage of positive pixels in masks: 0.078\n",
      "Accuracy: 99.922\n",
      "Dice score: 0.000\n",
      "Mask pixels detected (True positives): 0.000%\n",
      "False positives: nan%\n",
      "Mean distance: nan\n"
     ]
    },
    {
     "name": "stderr",
     "output_type": "stream",
     "text": [
      "100%|██████████| 42/42 [00:09<00:00,  4.44it/s, loss: 0.1086498, epoch: 21/150]\n",
      "100%|██████████| 42/42 [00:09<00:00,  4.35it/s, loss: 0.1021502, epoch: 22/150]\n",
      "100%|██████████| 42/42 [00:09<00:00,  4.46it/s, loss: 0.0961197, epoch: 23/150]\n",
      "100%|██████████| 42/42 [00:09<00:00,  4.39it/s, loss: 0.0898558, epoch: 24/150]\n",
      "100%|██████████| 42/42 [00:09<00:00,  4.44it/s, loss: 0.0843235, epoch: 25/150]\n"
     ]
    },
    {
     "name": "stdout",
     "output_type": "stream",
     "text": [
      "Performance on validation set\n",
      "Number of positive pixels predicted: 0.0\n",
      "Number of positive pixels in masks: 6431.0\n",
      "Percentage of positive pixels predicted: 0.000\n",
      "Percentage of positive pixels in masks: 0.078\n",
      "Accuracy: 99.922\n",
      "Dice score: 0.000\n",
      "Mask pixels detected (True positives): 0.000%\n",
      "False positives: nan%\n",
      "Mean distance: nan\n"
     ]
    },
    {
     "name": "stderr",
     "output_type": "stream",
     "text": [
      "100%|██████████| 42/42 [00:09<00:00,  4.42it/s, loss: 0.0797953, epoch: 26/150]\n",
      "100%|██████████| 42/42 [00:09<00:00,  4.36it/s, loss: 0.0754770, epoch: 27/150]\n",
      "100%|██████████| 42/42 [00:09<00:00,  4.39it/s, loss: 0.0708839, epoch: 28/150]\n",
      "100%|██████████| 42/42 [00:09<00:00,  4.42it/s, loss: 0.0677123, epoch: 29/150]\n",
      "100%|██████████| 42/42 [00:09<00:00,  4.44it/s, loss: 0.0637476, epoch: 30/150]\n"
     ]
    },
    {
     "name": "stdout",
     "output_type": "stream",
     "text": [
      "Performance on validation set\n",
      "Number of positive pixels predicted: 0.0\n",
      "Number of positive pixels in masks: 6431.0\n",
      "Percentage of positive pixels predicted: 0.000\n",
      "Percentage of positive pixels in masks: 0.078\n",
      "Accuracy: 99.922\n",
      "Dice score: 0.000\n",
      "Mask pixels detected (True positives): 0.000%\n",
      "False positives: nan%\n",
      "Mean distance: nan\n"
     ]
    },
    {
     "name": "stderr",
     "output_type": "stream",
     "text": [
      "100%|██████████| 42/42 [00:09<00:00,  4.39it/s, loss: 0.0607551, epoch: 31/150]\n",
      "100%|██████████| 42/42 [00:09<00:00,  4.41it/s, loss: 0.0567937, epoch: 32/150]\n",
      "100%|██████████| 42/42 [00:09<00:00,  4.39it/s, loss: 0.0545856, epoch: 33/150]\n",
      "100%|██████████| 42/42 [00:09<00:00,  4.43it/s, loss: 0.0517872, epoch: 34/150]\n",
      "100%|██████████| 42/42 [00:10<00:00,  4.17it/s, loss: 0.0494270, epoch: 35/150]\n"
     ]
    },
    {
     "name": "stdout",
     "output_type": "stream",
     "text": [
      "Performance on validation set\n",
      "Number of positive pixels predicted: 0.0\n",
      "Number of positive pixels in masks: 6431.0\n",
      "Percentage of positive pixels predicted: 0.000\n",
      "Percentage of positive pixels in masks: 0.078\n",
      "Accuracy: 99.922\n",
      "Dice score: 0.000\n",
      "Mask pixels detected (True positives): 0.000%\n",
      "False positives: nan%\n",
      "Mean distance: nan\n"
     ]
    },
    {
     "name": "stderr",
     "output_type": "stream",
     "text": [
      "100%|██████████| 42/42 [00:09<00:00,  4.35it/s, loss: 0.0469796, epoch: 36/150]\n",
      "100%|██████████| 42/42 [00:09<00:00,  4.36it/s, loss: 0.0446418, epoch: 37/150]\n",
      "100%|██████████| 42/42 [00:09<00:00,  4.38it/s, loss: 0.0428893, epoch: 38/150]\n",
      "100%|██████████| 42/42 [00:09<00:00,  4.40it/s, loss: 0.0412544, epoch: 39/150]\n",
      "100%|██████████| 42/42 [00:09<00:00,  4.41it/s, loss: 0.0390896, epoch: 40/150]\n"
     ]
    },
    {
     "name": "stdout",
     "output_type": "stream",
     "text": [
      "Performance on validation set\n",
      "Number of positive pixels predicted: 0.0\n",
      "Number of positive pixels in masks: 6431.0\n",
      "Percentage of positive pixels predicted: 0.000\n",
      "Percentage of positive pixels in masks: 0.078\n",
      "Accuracy: 99.922\n",
      "Dice score: 0.000\n",
      "Mask pixels detected (True positives): 0.000%\n",
      "False positives: nan%\n",
      "Mean distance: 58.36565597158375\n"
     ]
    },
    {
     "name": "stderr",
     "output_type": "stream",
     "text": [
      "100%|██████████| 42/42 [00:09<00:00,  4.36it/s, loss: 0.0379482, epoch: 41/150]\n",
      "100%|██████████| 42/42 [00:09<00:00,  4.45it/s, loss: 0.0361732, epoch: 42/150]\n",
      "100%|██████████| 42/42 [00:09<00:00,  4.40it/s, loss: 0.0342847, epoch: 43/150]\n",
      "100%|██████████| 42/42 [00:09<00:00,  4.44it/s, loss: 0.0331604, epoch: 44/150]\n",
      "100%|██████████| 42/42 [00:09<00:00,  4.40it/s, loss: 0.0319200, epoch: 45/150]\n"
     ]
    },
    {
     "name": "stdout",
     "output_type": "stream",
     "text": [
      "Performance on validation set\n",
      "Number of positive pixels predicted: 0.0\n",
      "Number of positive pixels in masks: 6431.0\n",
      "Percentage of positive pixels predicted: 0.000\n",
      "Percentage of positive pixels in masks: 0.078\n",
      "Accuracy: 99.922\n",
      "Dice score: 0.000\n",
      "Mask pixels detected (True positives): 0.000%\n",
      "False positives: nan%\n",
      "Mean distance: 44.50960960356789\n"
     ]
    },
    {
     "name": "stderr",
     "output_type": "stream",
     "text": [
      "100%|██████████| 42/42 [00:09<00:00,  4.43it/s, loss: 0.0298649, epoch: 46/150]\n",
      "100%|██████████| 42/42 [00:09<00:00,  4.46it/s, loss: 0.0292846, epoch: 47/150]\n",
      "100%|██████████| 42/42 [00:09<00:00,  4.32it/s, loss: 0.0282292, epoch: 48/150]\n",
      "100%|██████████| 42/42 [00:09<00:00,  4.43it/s, loss: 0.0270904, epoch: 49/150]\n",
      "100%|██████████| 42/42 [00:09<00:00,  4.36it/s, loss: 0.0262407, epoch: 50/150]\n"
     ]
    },
    {
     "name": "stdout",
     "output_type": "stream",
     "text": [
      "Performance on validation set\n",
      "Number of positive pixels predicted: 0.0\n",
      "Number of positive pixels in masks: 6431.0\n",
      "Percentage of positive pixels predicted: 0.000\n",
      "Percentage of positive pixels in masks: 0.078\n",
      "Accuracy: 99.922\n",
      "Dice score: 0.000\n",
      "Mask pixels detected (True positives): 0.000%\n",
      "False positives: nan%\n",
      "Mean distance: 44.42736100952057\n"
     ]
    },
    {
     "name": "stderr",
     "output_type": "stream",
     "text": [
      "100%|██████████| 42/42 [00:09<00:00,  4.35it/s, loss: 0.0247730, epoch: 51/150]\n",
      "100%|██████████| 42/42 [00:09<00:00,  4.35it/s, loss: 0.0245716, epoch: 52/150]\n",
      "100%|██████████| 42/42 [00:09<00:00,  4.40it/s, loss: 0.0234710, epoch: 53/150]\n",
      "100%|██████████| 42/42 [00:09<00:00,  4.46it/s, loss: 0.0226474, epoch: 54/150]\n",
      "100%|██████████| 42/42 [00:09<00:00,  4.34it/s, loss: 0.0212981, epoch: 55/150]\n"
     ]
    },
    {
     "name": "stdout",
     "output_type": "stream",
     "text": [
      "Performance on validation set\n",
      "Number of positive pixels predicted: 0.0\n",
      "Number of positive pixels in masks: 6431.0\n",
      "Percentage of positive pixels predicted: 0.000\n",
      "Percentage of positive pixels in masks: 0.078\n",
      "Accuracy: 99.922\n",
      "Dice score: 0.000\n",
      "Mask pixels detected (True positives): 0.000%\n",
      "False positives: nan%\n",
      "Mean distance: 37.784359111086545\n"
     ]
    },
    {
     "name": "stderr",
     "output_type": "stream",
     "text": [
      "100%|██████████| 42/42 [00:09<00:00,  4.44it/s, loss: 0.0215081, epoch: 56/150]\n",
      "100%|██████████| 42/42 [00:09<00:00,  4.30it/s, loss: 0.0208197, epoch: 57/150]\n",
      "100%|██████████| 42/42 [00:09<00:00,  4.41it/s, loss: 0.0201795, epoch: 58/150]\n",
      "100%|██████████| 42/42 [00:09<00:00,  4.37it/s, loss: 0.0194588, epoch: 59/150]\n",
      "100%|██████████| 42/42 [00:09<00:00,  4.37it/s, loss: 0.0181127, epoch: 60/150]\n"
     ]
    },
    {
     "name": "stdout",
     "output_type": "stream",
     "text": [
      "Performance on validation set\n",
      "Number of positive pixels predicted: 0.0\n",
      "Number of positive pixels in masks: 6431.0\n",
      "Percentage of positive pixels predicted: 0.000\n",
      "Percentage of positive pixels in masks: 0.078\n",
      "Accuracy: 99.922\n",
      "Dice score: 0.000\n",
      "Mask pixels detected (True positives): 0.000%\n",
      "False positives: nan%\n",
      "Mean distance: 25.518588907410376\n"
     ]
    },
    {
     "name": "stderr",
     "output_type": "stream",
     "text": [
      "100%|██████████| 42/42 [00:09<00:00,  4.40it/s, loss: 0.0188483, epoch: 61/150]\n",
      "100%|██████████| 42/42 [00:09<00:00,  4.23it/s, loss: 0.0172683, epoch: 62/150]\n",
      "100%|██████████| 42/42 [00:09<00:00,  4.41it/s, loss: 0.0170629, epoch: 63/150]\n",
      "100%|██████████| 42/42 [00:09<00:00,  4.37it/s, loss: 0.0157686, epoch: 64/150]\n",
      "100%|██████████| 42/42 [00:09<00:00,  4.40it/s, loss: 0.0156963, epoch: 65/150]\n"
     ]
    },
    {
     "name": "stdout",
     "output_type": "stream",
     "text": [
      "Performance on validation set\n",
      "Number of positive pixels predicted: 0.0\n",
      "Number of positive pixels in masks: 6431.0\n",
      "Percentage of positive pixels predicted: 0.000\n",
      "Percentage of positive pixels in masks: 0.078\n",
      "Accuracy: 99.922\n",
      "Dice score: 0.000\n",
      "Mask pixels detected (True positives): 0.000%\n",
      "False positives: nan%\n",
      "Mean distance: 23.01128029656136\n"
     ]
    },
    {
     "name": "stderr",
     "output_type": "stream",
     "text": [
      "100%|██████████| 42/42 [00:09<00:00,  4.47it/s, loss: 0.0148371, epoch: 66/150]\n",
      "100%|██████████| 42/42 [00:10<00:00,  4.20it/s, loss: 0.0146150, epoch: 67/150]\n",
      "100%|██████████| 42/42 [00:09<00:00,  4.47it/s, loss: 0.0145792, epoch: 68/150]\n",
      "100%|██████████| 42/42 [00:09<00:00,  4.36it/s, loss: 0.0143634, epoch: 69/150]\n",
      "100%|██████████| 42/42 [00:09<00:00,  4.42it/s, loss: 0.0129827, epoch: 70/150]\n"
     ]
    },
    {
     "name": "stdout",
     "output_type": "stream",
     "text": [
      "Performance on validation set\n",
      "Number of positive pixels predicted: 0.0\n",
      "Number of positive pixels in masks: 6431.0\n",
      "Percentage of positive pixels predicted: 0.000\n",
      "Percentage of positive pixels in masks: 0.078\n",
      "Accuracy: 99.922\n",
      "Dice score: 0.000\n",
      "Mask pixels detected (True positives): 0.000%\n",
      "False positives: nan%\n",
      "Mean distance: 21.379839928619198\n"
     ]
    },
    {
     "name": "stderr",
     "output_type": "stream",
     "text": [
      "100%|██████████| 42/42 [00:09<00:00,  4.39it/s, loss: 0.0130161, epoch: 71/150]\n",
      "100%|██████████| 42/42 [00:09<00:00,  4.40it/s, loss: 0.0134169, epoch: 72/150]\n",
      "100%|██████████| 42/42 [00:09<00:00,  4.47it/s, loss: 0.0126736, epoch: 73/150]\n",
      "100%|██████████| 42/42 [00:09<00:00,  4.38it/s, loss: 0.0122297, epoch: 74/150]\n",
      "100%|██████████| 42/42 [00:09<00:00,  4.46it/s, loss: 0.0115494, epoch: 75/150]\n"
     ]
    },
    {
     "name": "stdout",
     "output_type": "stream",
     "text": [
      "Performance on validation set\n",
      "Number of positive pixels predicted: 1073.0\n",
      "Number of positive pixels in masks: 6431.0\n",
      "Percentage of positive pixels predicted: 0.013\n",
      "Percentage of positive pixels in masks: 0.078\n",
      "Accuracy: 99.931\n",
      "Dice score: 0.234\n",
      "Mask pixels detected (True positives): 14.072%\n",
      "False positives: 15.657%\n",
      "Mean distance: 14.296537693600879\n"
     ]
    },
    {
     "name": "stderr",
     "output_type": "stream",
     "text": [
      "100%|██████████| 42/42 [00:09<00:00,  4.38it/s, loss: 0.0116865, epoch: 76/150]\n",
      "100%|██████████| 42/42 [00:09<00:00,  4.33it/s, loss: 0.0124094, epoch: 77/150]\n",
      "100%|██████████| 42/42 [00:09<00:00,  4.46it/s, loss: 0.0105907, epoch: 78/150]\n",
      "100%|██████████| 42/42 [00:09<00:00,  4.39it/s, loss: 0.0100952, epoch: 79/150]\n",
      "100%|██████████| 42/42 [00:09<00:00,  4.44it/s, loss: 0.0097110, epoch: 80/150]\n"
     ]
    },
    {
     "name": "stdout",
     "output_type": "stream",
     "text": [
      "Performance on validation set\n",
      "Number of positive pixels predicted: 2802.0\n",
      "Number of positive pixels in masks: 6431.0\n",
      "Percentage of positive pixels predicted: 0.034\n",
      "Percentage of positive pixels in masks: 0.078\n",
      "Accuracy: 99.939\n",
      "Dice score: 0.450\n",
      "Mask pixels detected (True positives): 32.406%\n",
      "False positives: 25.625%\n",
      "Mean distance: 11.666134345097937\n"
     ]
    },
    {
     "name": "stderr",
     "output_type": "stream",
     "text": [
      "100%|██████████| 42/42 [00:09<00:00,  4.36it/s, loss: 0.0099572, epoch: 81/150]\n",
      "100%|██████████| 42/42 [00:09<00:00,  4.37it/s, loss: 0.0095464, epoch: 82/150]\n",
      "100%|██████████| 42/42 [00:09<00:00,  4.40it/s, loss: 0.0100266, epoch: 83/150]\n",
      "100%|██████████| 42/42 [00:09<00:00,  4.40it/s, loss: 0.0095338, epoch: 84/150]\n",
      "100%|██████████| 42/42 [00:09<00:00,  4.43it/s, loss: 0.0081001, epoch: 85/150]\n"
     ]
    },
    {
     "name": "stdout",
     "output_type": "stream",
     "text": [
      "Performance on validation set\n",
      "Number of positive pixels predicted: 3633.0\n",
      "Number of positive pixels in masks: 6431.0\n",
      "Percentage of positive pixels predicted: 0.044\n",
      "Percentage of positive pixels in masks: 0.078\n",
      "Accuracy: 99.942\n",
      "Dice score: 0.515\n",
      "Mask pixels detected (True positives): 40.662%\n",
      "False positives: 28.021%\n",
      "Mean distance: 6.783632700882176\n"
     ]
    },
    {
     "name": "stderr",
     "output_type": "stream",
     "text": [
      "100%|██████████| 42/42 [00:09<00:00,  4.39it/s, loss: 0.0088720, epoch: 86/150]\n",
      "100%|██████████| 42/42 [00:09<00:00,  4.40it/s, loss: 0.0089303, epoch: 87/150]\n",
      "100%|██████████| 42/42 [00:09<00:00,  4.38it/s, loss: 0.0087263, epoch: 88/150]\n",
      "100%|██████████| 42/42 [00:09<00:00,  4.42it/s, loss: 0.0082529, epoch: 89/150]\n",
      "100%|██████████| 42/42 [00:09<00:00,  4.43it/s, loss: 0.0076453, epoch: 90/150]\n"
     ]
    },
    {
     "name": "stdout",
     "output_type": "stream",
     "text": [
      "Performance on validation set\n",
      "Number of positive pixels predicted: 4040.0\n",
      "Number of positive pixels in masks: 6431.0\n",
      "Percentage of positive pixels predicted: 0.049\n",
      "Percentage of positive pixels in masks: 0.078\n",
      "Accuracy: 99.946\n",
      "Dice score: 0.564\n",
      "Mask pixels detected (True positives): 46.556%\n",
      "False positives: 25.891%\n",
      "Mean distance: 6.496012755127067\n"
     ]
    },
    {
     "name": "stderr",
     "output_type": "stream",
     "text": [
      "100%|██████████| 42/42 [00:09<00:00,  4.34it/s, loss: 0.0088673, epoch: 91/150]\n",
      "100%|██████████| 42/42 [00:09<00:00,  4.45it/s, loss: 0.0076746, epoch: 92/150]\n",
      "100%|██████████| 42/42 [00:09<00:00,  4.35it/s, loss: 0.0067772, epoch: 93/150]\n",
      "100%|██████████| 42/42 [00:09<00:00,  4.43it/s, loss: 0.0068030, epoch: 94/150]\n",
      "100%|██████████| 42/42 [00:09<00:00,  4.38it/s, loss: 0.0074146, epoch: 95/150]\n"
     ]
    },
    {
     "name": "stdout",
     "output_type": "stream",
     "text": [
      "Performance on validation set\n",
      "Number of positive pixels predicted: 5368.0\n",
      "Number of positive pixels in masks: 6431.0\n",
      "Percentage of positive pixels predicted: 0.065\n",
      "Percentage of positive pixels in masks: 0.078\n",
      "Accuracy: 99.948\n",
      "Dice score: 0.630\n",
      "Mask pixels detected (True positives): 58.234%\n",
      "False positives: 30.235%\n",
      "Mean distance: 7.097593199287884\n"
     ]
    },
    {
     "name": "stderr",
     "output_type": "stream",
     "text": [
      "100%|██████████| 42/42 [00:09<00:00,  4.34it/s, loss: 0.0081646, epoch: 96/150]\n",
      "100%|██████████| 42/42 [00:09<00:00,  4.41it/s, loss: 0.0079309, epoch: 97/150]\n",
      "100%|██████████| 42/42 [00:09<00:00,  4.37it/s, loss: 0.0068000, epoch: 98/150]\n",
      "100%|██████████| 42/42 [00:09<00:00,  4.43it/s, loss: 0.0081863, epoch: 99/150]\n",
      "100%|██████████| 42/42 [00:09<00:00,  4.36it/s, loss: 0.0056331, epoch: 100/150]\n"
     ]
    },
    {
     "name": "stdout",
     "output_type": "stream",
     "text": [
      "Performance on validation set\n",
      "Number of positive pixels predicted: 4887.0\n",
      "Number of positive pixels in masks: 6431.0\n",
      "Percentage of positive pixels predicted: 0.059\n",
      "Percentage of positive pixels in masks: 0.078\n",
      "Accuracy: 99.952\n",
      "Dice score: 0.641\n",
      "Mask pixels detected (True positives): 56.943%\n",
      "False positives: 25.067%\n",
      "Mean distance: 4.953919032119479\n"
     ]
    },
    {
     "name": "stderr",
     "output_type": "stream",
     "text": [
      "100%|██████████| 42/42 [00:09<00:00,  4.39it/s, loss: 0.0061217, epoch: 101/150]\n",
      "100%|██████████| 42/42 [00:09<00:00,  4.27it/s, loss: 0.0052526, epoch: 102/150]\n",
      "100%|██████████| 42/42 [00:09<00:00,  4.40it/s, loss: 0.0062576, epoch: 103/150]\n",
      "100%|██████████| 42/42 [00:09<00:00,  4.37it/s, loss: 0.0076817, epoch: 104/150]\n",
      "100%|██████████| 42/42 [00:09<00:00,  4.37it/s, loss: 0.0051745, epoch: 105/150]\n"
     ]
    },
    {
     "name": "stdout",
     "output_type": "stream",
     "text": [
      "Performance on validation set\n",
      "Number of positive pixels predicted: 3714.0\n",
      "Number of positive pixels in masks: 6431.0\n",
      "Percentage of positive pixels predicted: 0.045\n",
      "Percentage of positive pixels in masks: 0.078\n",
      "Accuracy: 99.947\n",
      "Dice score: 0.561\n",
      "Mask pixels detected (True positives): 44.674%\n",
      "False positives: 22.644%\n",
      "Mean distance: 5.599696983243346\n"
     ]
    },
    {
     "name": "stderr",
     "output_type": "stream",
     "text": [
      "100%|██████████| 42/42 [00:09<00:00,  4.40it/s, loss: 0.0071389, epoch: 106/150]\n",
      "100%|██████████| 42/42 [00:09<00:00,  4.29it/s, loss: 0.0058118, epoch: 107/150]\n",
      "100%|██████████| 42/42 [00:09<00:00,  4.39it/s, loss: 0.0057276, epoch: 108/150]\n",
      "100%|██████████| 42/42 [00:09<00:00,  4.40it/s, loss: 0.0051255, epoch: 109/150]\n",
      "100%|██████████| 42/42 [00:09<00:00,  4.38it/s, loss: 0.0059947, epoch: 110/150]\n"
     ]
    },
    {
     "name": "stdout",
     "output_type": "stream",
     "text": [
      "Performance on validation set\n",
      "Number of positive pixels predicted: 5018.0\n",
      "Number of positive pixels in masks: 6431.0\n",
      "Percentage of positive pixels predicted: 0.060\n",
      "Percentage of positive pixels in masks: 0.078\n",
      "Accuracy: 99.949\n",
      "Dice score: 0.625\n",
      "Mask pixels detected (True positives): 56.414%\n",
      "False positives: 27.700%\n",
      "Mean distance: 6.712045800106003\n"
     ]
    },
    {
     "name": "stderr",
     "output_type": "stream",
     "text": [
      "100%|██████████| 42/42 [00:09<00:00,  4.41it/s, loss: 0.0071418, epoch: 111/150]\n",
      "100%|██████████| 42/42 [00:09<00:00,  4.23it/s, loss: 0.0041973, epoch: 112/150]\n",
      "100%|██████████| 42/42 [00:09<00:00,  4.43it/s, loss: 0.0054228, epoch: 113/150]\n",
      "100%|██████████| 42/42 [00:09<00:00,  4.35it/s, loss: 0.0053845, epoch: 114/150]\n",
      "100%|██████████| 42/42 [00:09<00:00,  4.42it/s, loss: 0.0051153, epoch: 115/150]\n"
     ]
    },
    {
     "name": "stdout",
     "output_type": "stream",
     "text": [
      "Performance on validation set\n",
      "Number of positive pixels predicted: 6010.0\n",
      "Number of positive pixels in masks: 6431.0\n",
      "Percentage of positive pixels predicted: 0.072\n",
      "Percentage of positive pixels in masks: 0.078\n",
      "Accuracy: 99.953\n",
      "Dice score: 0.683\n",
      "Mask pixels detected (True positives): 66.708%\n",
      "False positives: 28.619%\n",
      "Mean distance: 3.107967681234871\n"
     ]
    },
    {
     "name": "stderr",
     "output_type": "stream",
     "text": [
      "100%|██████████| 42/42 [00:09<00:00,  4.47it/s, loss: 0.0048278, epoch: 116/150]\n",
      "100%|██████████| 42/42 [00:09<00:00,  4.24it/s, loss: 0.0039610, epoch: 117/150]\n",
      "100%|██████████| 42/42 [00:09<00:00,  4.44it/s, loss: 0.0038859, epoch: 118/150]\n",
      "100%|██████████| 42/42 [00:09<00:00,  4.31it/s, loss: 0.0041898, epoch: 119/150]\n",
      "100%|██████████| 42/42 [00:09<00:00,  4.40it/s, loss: 0.0050018, epoch: 120/150]\n"
     ]
    },
    {
     "name": "stdout",
     "output_type": "stream",
     "text": [
      "Performance on validation set\n",
      "Number of positive pixels predicted: 5621.0\n",
      "Number of positive pixels in masks: 6431.0\n",
      "Percentage of positive pixels predicted: 0.068\n",
      "Percentage of positive pixels in masks: 0.078\n",
      "Accuracy: 99.948\n",
      "Dice score: 0.636\n",
      "Mask pixels detected (True positives): 60.177%\n",
      "False positives: 31.151%\n",
      "Mean distance: 4.016812526348529\n"
     ]
    },
    {
     "name": "stderr",
     "output_type": "stream",
     "text": [
      "100%|██████████| 42/42 [00:09<00:00,  4.38it/s, loss: 0.0043903, epoch: 121/150]\n",
      "100%|██████████| 42/42 [00:09<00:00,  4.33it/s, loss: 0.0034968, epoch: 122/150]\n",
      "100%|██████████| 42/42 [00:09<00:00,  4.48it/s, loss: 0.0045519, epoch: 123/150]\n",
      "100%|██████████| 42/42 [00:09<00:00,  4.40it/s, loss: 0.0046303, epoch: 124/150]\n",
      "100%|██████████| 42/42 [00:09<00:00,  4.44it/s, loss: 0.0053233, epoch: 125/150]\n"
     ]
    },
    {
     "name": "stdout",
     "output_type": "stream",
     "text": [
      "Performance on validation set\n",
      "Number of positive pixels predicted: 5982.0\n",
      "Number of positive pixels in masks: 6431.0\n",
      "Percentage of positive pixels predicted: 0.072\n",
      "Percentage of positive pixels in masks: 0.078\n",
      "Accuracy: 99.947\n",
      "Dice score: 0.640\n",
      "Mask pixels detected (True positives): 62.479%\n",
      "False positives: 32.832%\n",
      "Mean distance: 4.2592931261621345\n"
     ]
    },
    {
     "name": "stderr",
     "output_type": "stream",
     "text": [
      "100%|██████████| 42/42 [00:09<00:00,  4.35it/s, loss: 0.0034374, epoch: 126/150]\n",
      "100%|██████████| 42/42 [00:09<00:00,  4.35it/s, loss: 0.0052954, epoch: 127/150]\n",
      "100%|██████████| 42/42 [00:09<00:00,  4.41it/s, loss: 0.0044431, epoch: 128/150]\n",
      "100%|██████████| 42/42 [00:09<00:00,  4.38it/s, loss: 0.0053893, epoch: 129/150]\n",
      "100%|██████████| 42/42 [00:09<00:00,  4.43it/s, loss: 0.0041845, epoch: 130/150]\n"
     ]
    },
    {
     "name": "stdout",
     "output_type": "stream",
     "text": [
      "Performance on validation set\n",
      "Number of positive pixels predicted: 5469.0\n",
      "Number of positive pixels in masks: 6431.0\n",
      "Percentage of positive pixels predicted: 0.066\n",
      "Percentage of positive pixels in masks: 0.078\n",
      "Accuracy: 99.946\n",
      "Dice score: 0.616\n",
      "Mask pixels detected (True positives): 57.907%\n",
      "False positives: 31.907%\n",
      "Mean distance: 5.414879157962554\n"
     ]
    },
    {
     "name": "stderr",
     "output_type": "stream",
     "text": [
      "100%|██████████| 42/42 [00:09<00:00,  4.39it/s, loss: 0.0051739, epoch: 131/150]\n",
      "100%|██████████| 42/42 [00:09<00:00,  4.38it/s, loss: 0.0030495, epoch: 132/150]\n",
      "100%|██████████| 42/42 [00:09<00:00,  4.36it/s, loss: 0.0031706, epoch: 133/150]\n",
      "100%|██████████| 42/42 [00:09<00:00,  4.40it/s, loss: 0.0039381, epoch: 134/150]\n",
      "100%|██████████| 42/42 [00:09<00:00,  4.39it/s, loss: 0.0043495, epoch: 135/150]\n"
     ]
    },
    {
     "name": "stdout",
     "output_type": "stream",
     "text": [
      "Performance on validation set\n",
      "Number of positive pixels predicted: 5236.0\n",
      "Number of positive pixels in masks: 6431.0\n",
      "Percentage of positive pixels predicted: 0.063\n",
      "Percentage of positive pixels in masks: 0.078\n",
      "Accuracy: 99.950\n",
      "Dice score: 0.641\n",
      "Mask pixels detected (True positives): 58.451%\n",
      "False positives: 28.209%\n",
      "Mean distance: 4.669968085948394\n"
     ]
    },
    {
     "name": "stderr",
     "output_type": "stream",
     "text": [
      "100%|██████████| 42/42 [00:09<00:00,  4.34it/s, loss: 0.0052769, epoch: 136/150]\n",
      "100%|██████████| 42/42 [00:09<00:00,  4.40it/s, loss: 0.0038736, epoch: 137/150]\n",
      "100%|██████████| 42/42 [00:09<00:00,  4.32it/s, loss: 0.0051593, epoch: 138/150]\n",
      "100%|██████████| 42/42 [00:09<00:00,  4.38it/s, loss: 0.0037289, epoch: 139/150]\n",
      "100%|██████████| 42/42 [00:09<00:00,  4.34it/s, loss: 0.0025650, epoch: 140/150]\n"
     ]
    },
    {
     "name": "stdout",
     "output_type": "stream",
     "text": [
      "Performance on validation set\n",
      "Number of positive pixels predicted: 6526.0\n",
      "Number of positive pixels in masks: 6431.0\n",
      "Percentage of positive pixels predicted: 0.079\n",
      "Percentage of positive pixels in masks: 0.078\n",
      "Accuracy: 99.950\n",
      "Dice score: 0.670\n",
      "Mask pixels detected (True positives): 68.201%\n",
      "False positives: 32.792%\n",
      "Mean distance: 4.6673087297221105\n"
     ]
    },
    {
     "name": "stderr",
     "output_type": "stream",
     "text": [
      "100%|██████████| 42/42 [00:09<00:00,  4.37it/s, loss: 0.0041481, epoch: 141/150]\n",
      "100%|██████████| 42/42 [00:09<00:00,  4.42it/s, loss: 0.0035599, epoch: 142/150]\n",
      "100%|██████████| 42/42 [00:09<00:00,  4.24it/s, loss: 0.0036225, epoch: 143/150]\n",
      "100%|██████████| 42/42 [00:09<00:00,  4.28it/s, loss: 0.0023492, epoch: 144/150]\n",
      "100%|██████████| 42/42 [00:09<00:00,  4.32it/s, loss: 0.0035684, epoch: 145/150]\n"
     ]
    },
    {
     "name": "stdout",
     "output_type": "stream",
     "text": [
      "Performance on validation set\n",
      "Number of positive pixels predicted: 5557.0\n",
      "Number of positive pixels in masks: 6431.0\n",
      "Percentage of positive pixels predicted: 0.067\n",
      "Percentage of positive pixels in masks: 0.078\n",
      "Accuracy: 99.949\n",
      "Dice score: 0.644\n",
      "Mask pixels detected (True positives): 60.582%\n",
      "False positives: 29.890%\n",
      "Mean distance: 4.050035555009737\n"
     ]
    },
    {
     "name": "stderr",
     "output_type": "stream",
     "text": [
      "100%|██████████| 42/42 [00:09<00:00,  4.34it/s, loss: 0.0023686, epoch: 146/150]\n",
      "100%|██████████| 42/42 [00:09<00:00,  4.42it/s, loss: 0.0022719, epoch: 147/150]\n",
      "100%|██████████| 42/42 [00:09<00:00,  4.35it/s, loss: 0.0024798, epoch: 148/150]\n",
      "100%|██████████| 42/42 [00:09<00:00,  4.41it/s, loss: 0.0022060, epoch: 149/150]"
     ]
    },
    {
     "name": "stdout",
     "output_type": "stream",
     "text": [
      "End time: 2023-11-22 12:08:21.539659\n",
      "150 epochs, duration: 0:25:25.828869\n"
     ]
    },
    {
     "name": "stderr",
     "output_type": "stream",
     "text": [
      "\n"
     ]
    }
   ],
   "source": [
    "startTime = datetime.now()\n",
    "print(\"Starting time:\",startTime)\n",
    "for epoch in range(NUM_EPOCHS):\n",
    "\n",
    "    train_fn(trainLoader,model,optimizer,loss_fn,scaler,epoch,NUM_EPOCHS)\n",
    "\n",
    "    if epoch % 5 == 0 :\n",
    "        # save model\n",
    "        checkpoint = {\n",
    "            \"state_dict\": model.state_dict(),\n",
    "            \"optimizer\": optimizer.state_dict()}\n",
    "        save_checkpoint(checkpoint,filename=os.path.join(project.models_dir,\"my_checkpoint.pth.tar\"))\n",
    "\n",
    "        # check accuracy\n",
    "        print(\"Performance on validation set\")\n",
    "        check_accuracy(model,valLoader,DEVICE)\n",
    "\n",
    "endTime=datetime.now()\n",
    "print(\"End time:\",endTime)\n",
    "print(\"{} epochs, duration:\".format(NUM_EPOCHS), endTime-startTime)"
   ]
  },
  {
   "cell_type": "markdown",
   "id": "ad21fd37-aa74-41d8-a8fb-7fa544b75ccd",
   "metadata": {
    "id": "ad21fd37-aa74-41d8-a8fb-7fa544b75ccd"
   },
   "source": [
    "Once your model starts to predict positive pixels, the output will contain the a few values that helps you track how your model is doing.\n",
    "\n",
    "* Dice score: a common measure to measure the performace of image segmentation models. [External link](https://medium.com/mlearning-ai/understanding-evaluation-metrics-in-medical-image-segmentation-d289a373a3f)\n",
    "* Mask pixels detected: percentage of the positive pixels in the masks that are predicted as positive by the model.\n",
    "* False positive: percentage of the pixels that are predicted as positive by the models that are negative pixels in your masks.\n",
    "* Mean distance: Mean distance in pixels between the coordinates you labeled and the coordinated calculated from the model output.\n",
    "\n"
   ]
  },
  {
   "cell_type": "code",
   "execution_count": 14,
   "id": "929bfc68",
   "metadata": {
    "colab": {
     "base_uri": "https://localhost:8080/"
    },
    "executionInfo": {
     "elapsed": 373,
     "status": "ok",
     "timestamp": 1700654902246,
     "user": {
      "displayName": "Kevin Allen",
      "userId": "15732675083736573970"
     },
     "user_tz": -60
    },
    "id": "929bfc68",
    "outputId": "2254f313-d7dc-4174-e4c8-4908f5950a0e"
   },
   "outputs": [
    {
     "name": "stdout",
     "output_type": "stream",
     "text": [
      "saving model state dict to /content/drive/My Drive/teaching_thesis_taq/Data_science_neuroscience/master_neuroscience_2023/unetTracker/finger_tracker/models/UNet.pt\n",
      "2023-11-22 12:08:21.554515\n"
     ]
    }
   ],
   "source": [
    "project.save_model(model)"
   ]
  },
  {
   "cell_type": "markdown",
   "id": "739bb515-81d5-4984-8dcf-a8bf2ae46f39",
   "metadata": {
    "id": "739bb515-81d5-4984-8dcf-a8bf2ae46f39"
   },
   "source": [
    "## Shutdown kernels\n",
    "\n",
    "If you want to continue with the next notebook, you might want to shutdown the kernel associated with this notebook to ensure that the GPU memory is free for other notebook."
   ]
  },
  {
   "cell_type": "code",
   "execution_count": null,
   "id": "fb63487e-8388-40bd-89ad-02bc2e6ae872",
   "metadata": {
    "id": "fb63487e-8388-40bd-89ad-02bc2e6ae872"
   },
   "outputs": [],
   "source": []
  }
 ],
 "metadata": {
  "accelerator": "GPU",
  "colab": {
   "gpuType": "T4",
   "provenance": [
    {
     "file_id": "1jlZPtsqRMgqdWkFvz5036zb3tdeyTJ6R",
     "timestamp": 1688111736375
    }
   ]
  },
  "kernelspec": {
   "display_name": "Python 3 (ipykernel)",
   "language": "python",
   "name": "python3"
  },
  "language_info": {
   "codemirror_mode": {
    "name": "ipython",
    "version": 3
   },
   "file_extension": ".py",
   "mimetype": "text/x-python",
   "name": "python",
   "nbconvert_exporter": "python",
   "pygments_lexer": "ipython3",
   "version": "3.10.12"
  }
 },
 "nbformat": 4,
 "nbformat_minor": 5
}
