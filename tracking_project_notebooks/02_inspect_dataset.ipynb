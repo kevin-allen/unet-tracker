{
 "cells": [
  {
   "cell_type": "markdown",
   "id": "accf3283-fcfc-4a05-bddf-22c97f3181e6",
   "metadata": {},
   "source": [
    "# Dataset inspection\n",
    "\n",
    "We want to be able to look at our labeling to make sure it is correct. \n",
    "\n",
    "If you find wrongly labeled images, just press `Delete frame` and it will be removed from the dataset.\n",
    "\n",
    "Training a network with bad labeling affects the performance of the model."
   ]
  },
  {
   "cell_type": "code",
   "execution_count": 7,
   "id": "76bbab2c-46c3-43ce-a662-af34f7429b0c",
   "metadata": {},
   "outputs": [
    {
     "name": "stdout",
     "output_type": "stream",
     "text": [
      "Project directory: /home/kevin/Documents/trackingProjects/finger_tracker\n",
      "Getting configuration from config file. Values from config file will be used.\n",
      "Loading /home/kevin/Documents/trackingProjects/finger_tracker/config.yalm\n",
      "{'augmentation_HorizontalFlipProb': 0.0, 'augmentation_RandomBrightnessContrastProb': 0.2, 'augmentation_RandomSizedCropProb': 1.0, 'augmentation_RotateProb': 0.3, 'image_extension': '.png', 'image_size': [270, 480], 'labeling_ImageEnlargeFactor': 2.0, 'name': 'finger_tracker', 'normalization_values': {'means': [0.40835028886795044, 0.4549056589603424, 0.51627117395401], 'stds': [0.23996737599372864, 0.251758873462677, 0.26929107308387756]}, 'object_colors': [(0.0, 0.0, 255.0), (255.0, 0.0, 0.0), (255.0, 255.0, 0.0), (240.0, 255.0, 255.0)], 'objects': ['f1', 'f2', 'f3', 'f4'], 'target_radius': 6, 'unet_features': [64, 128, 256, 512]}\n"
     ]
    }
   ],
   "source": [
    "# this will run the code in the setup_project.py and create a variable called `project`\n",
    "%run setup_project.py"
   ]
  },
  {
   "cell_type": "code",
   "execution_count": 8,
   "id": "7bbde9ab-c930-4216-8b4f-193f614cb480",
   "metadata": {},
   "outputs": [],
   "source": [
    "from unetTracker.trackingProject import TrackingProject\n",
    "from unetTracker.dataset import UNetDataset\n",
    "from unetTracker.unetGUI import ReviewDatasetGUI"
   ]
  },
  {
   "cell_type": "code",
   "execution_count": 9,
   "id": "0a8169a6-9571-4fdf-94fb-099f925e9c85",
   "metadata": {},
   "outputs": [],
   "source": [
    "dataset = UNetDataset(image_dir=project.image_dir, mask_dir=project.mask_dir, coordinate_dir=project.coordinate_dir, image_extension=project.image_extension)"
   ]
  },
  {
   "cell_type": "code",
   "execution_count": 10,
   "id": "5c2e6b19-a90c-44c0-be82-ae32f3341dbe",
   "metadata": {},
   "outputs": [
    {
     "data": {
      "text/plain": [
       "210"
      ]
     },
     "execution_count": 10,
     "metadata": {},
     "output_type": "execute_result"
    }
   ],
   "source": [
    "len(dataset)"
   ]
  },
  {
   "cell_type": "code",
   "execution_count": 11,
   "id": "7758ec89-1cca-4a94-b38a-122057d12bcb",
   "metadata": {},
   "outputs": [
    {
     "data": {
      "application/vnd.jupyter.widget-view+json": {
       "model_id": "826248e2abf94151885058550396d0e2",
       "version_major": 2,
       "version_minor": 0
      },
      "text/plain": [
       "VBox(children=(HBox(children=(HTML(value='0     /     2  1  0'), Button(description='Previous frame', icon='ch…"
      ]
     },
     "metadata": {},
     "output_type": "display_data"
    },
    {
     "data": {
      "application/vnd.jupyter.widget-view+json": {
       "model_id": "31abd75be7bd4fcbb0837be5550173d2",
       "version_major": 2,
       "version_minor": 0
      },
      "text/plain": [
       "Output(layout=Layout(border_bottom='1px solid black', border_left='1px solid black', border_right='1px solid b…"
      ]
     },
     "metadata": {},
     "output_type": "display_data"
    }
   ],
   "source": [
    "gui = ReviewDatasetGUI(project,dataset)"
   ]
  },
  {
   "cell_type": "code",
   "execution_count": 6,
   "id": "89d8c518-f0c2-475e-a072-e7c29bf855ea",
   "metadata": {},
   "outputs": [
    {
     "data": {
      "text/plain": [
       "210"
      ]
     },
     "execution_count": 6,
     "metadata": {},
     "output_type": "execute_result"
    }
   ],
   "source": [
    "len(dataset)"
   ]
  },
  {
   "cell_type": "code",
   "execution_count": null,
   "id": "ba3f0bb0-b99b-4f84-a705-a50e66f1552a",
   "metadata": {},
   "outputs": [],
   "source": []
  }
 ],
 "metadata": {
  "kernelspec": {
   "display_name": "Python 3 (ipykernel)",
   "language": "python",
   "name": "python3"
  },
  "language_info": {
   "codemirror_mode": {
    "name": "ipython",
    "version": 3
   },
   "file_extension": ".py",
   "mimetype": "text/x-python",
   "name": "python",
   "nbconvert_exporter": "python",
   "pygments_lexer": "ipython3",
   "version": "3.10.12"
  }
 },
 "nbformat": 4,
 "nbformat_minor": 5
}
