{
 "cells": [
  {
   "cell_type": "markdown",
   "id": "351d8e96-edc0-4915-a775-15033608f54a",
   "metadata": {},
   "source": [
    "# Create training and validation sets\n",
    "\n",
    "When we label images, the images, masks, and object coordinates were saved in the `images`, `masks`, and `coordinates` directories. \n",
    "\n",
    "In this Notebook, we want to create training and validation sets. \n",
    "\n",
    "The train and validation sets will be saved within the `dataset` folder of the project. \n",
    "\n",
    "It will create the following subdirectories\n",
    "* `train_images`\n",
    "* `train_masks`\n",
    "* `train_coordinates`\n",
    "* `val_images`\n",
    "* `val_masks`\n",
    "* `val_coordinates`\n",
    "\n",
    "\n",
    "We will use the validation folders to estimate our model's accuracy on data it has not seen during training."
   ]
  },
  {
   "cell_type": "code",
   "execution_count": 1,
   "id": "4d5e32e2-d0e8-4504-9ef0-9ef6914b20ff",
   "metadata": {},
   "outputs": [
    {
     "name": "stdout",
     "output_type": "stream",
     "text": [
      "Project directory: /home/kevin/Documents/trackingProjects/finger_tracker\n",
      "Getting configuration from config file. Values from config file will be used.\n",
      "Loading /home/kevin/Documents/trackingProjects/finger_tracker/config.yalm\n",
      "{'augmentation_HorizontalFlipProb': 0.0, 'augmentation_RandomBrightnessContrastProb': 0.2, 'augmentation_RandomSizedCropProb': 1.0, 'augmentation_RotateProb': 0.3, 'image_extension': '.png', 'image_size': [270, 480], 'labeling_ImageEnlargeFactor': 2.0, 'name': 'finger_tracker', 'normalization_values': {'means': [0.4079657196998596, 0.4543980062007904, 0.5158050656318665], 'stds': [0.23991422355175018, 0.25161123275756836, 0.26905474066734314]}, 'object_colors': [(0.0, 0.0, 255.0), (255.0, 0.0, 0.0), (255.0, 255.0, 0.0), (240.0, 255.0, 255.0)], 'objects': ['f1', 'f2', 'f3', 'f4'], 'target_radius': 6, 'unet_features': [64, 128, 256, 512]}\n"
     ]
    }
   ],
   "source": [
    "# this will run the code in the setup_project.py and create a variable called `project`\n",
    "%run setup_project.py\n",
    "\n",
    "from unetTracker.dataset import UNetDataset"
   ]
  },
  {
   "cell_type": "code",
   "execution_count": 2,
   "id": "750b7128-d214-4a7a-9534-c36b5c69a15f",
   "metadata": {},
   "outputs": [],
   "source": [
    "dataset = UNetDataset(image_dir=project.image_dir, mask_dir=project.mask_dir, coordinate_dir=project.coordinate_dir,image_extension=project.image_extension)"
   ]
  },
  {
   "cell_type": "code",
   "execution_count": 3,
   "id": "89e21de7-209b-4673-a6a2-2272f98104ac",
   "metadata": {},
   "outputs": [
    {
     "name": "stdout",
     "output_type": "stream",
     "text": [
      "Number of item in dataset: 210\n",
      "Length of training set: 191\n",
      "Length of validation set: 19\n",
      "Actual test ratio: 0.090\n",
      "Copying files to training and validation directories\n"
     ]
    }
   ],
   "source": [
    "dataset.create_training_validation_dataset(train_image_dir = os.path.join(project.dataset_dir,\"train_images\"),\n",
    "                                           train_mask_dir =  os.path.join(project.dataset_dir,\"train_masks\"),\n",
    "                                           train_coordinate_dir = os.path.join(project.dataset_dir,\"train_coordinates\"),\n",
    "                                           \n",
    "                                           val_image_dir = os.path.join(project.dataset_dir,\"val_images\"),\n",
    "                                           val_mask_dir =  os.path.join(project.dataset_dir,\"val_masks\"),\n",
    "                                           val_coordinate_dir = os.path.join(project.dataset_dir,\"val_coordinates\"),\n",
    "                                           \n",
    "                                           test_ratio=0.10) # ratio of images assigned to the validation dataset, the rest goes to the training set."
   ]
  },
  {
   "cell_type": "markdown",
   "id": "15e01462-112b-4636-87e3-16d11aaf41da",
   "metadata": {},
   "source": [
    "We can use the same `UNetDataset` class to represent our training and validation datasets. They will pick images from different directories. "
   ]
  },
  {
   "cell_type": "code",
   "execution_count": 6,
   "id": "b49d0ff8-4131-4bdc-a469-93f6febc5dba",
   "metadata": {},
   "outputs": [
    {
     "data": {
      "text/plain": [
       "191"
      ]
     },
     "execution_count": 6,
     "metadata": {},
     "output_type": "execute_result"
    }
   ],
   "source": [
    "train_image_dir = os.path.join(project.dataset_dir,\"train_images\")\n",
    "train_mask_dir =  os.path.join(project.dataset_dir,\"train_masks\")\n",
    "train_coordinate_dir = os.path.join(project.dataset_dir,\"train_coordinates\")\n",
    "trainDataset = UNetDataset(image_dir=train_image_dir,\n",
    "                           mask_dir=train_mask_dir,\n",
    "                           coordinate_dir=train_coordinate_dir,\n",
    "                           image_extension=project.image_extension)\n",
    "len(trainDataset)"
   ]
  },
  {
   "cell_type": "code",
   "execution_count": 7,
   "id": "51cfd723-e729-40bd-909b-405d9a4afd93",
   "metadata": {},
   "outputs": [
    {
     "data": {
      "text/plain": [
       "19"
      ]
     },
     "execution_count": 7,
     "metadata": {},
     "output_type": "execute_result"
    }
   ],
   "source": [
    "val_image_dir = os.path.join(project.dataset_dir,\"val_images\")\n",
    "val_mask_dir =  os.path.join(project.dataset_dir,\"val_masks\")\n",
    "val_coordinate_dir = os.path.join(project.dataset_dir,\"val_coordinates\")\n",
    "valDataset = UNetDataset(image_dir=val_image_dir,\n",
    "                         mask_dir=val_mask_dir,\n",
    "                         coordinate_dir=val_coordinate_dir,\n",
    "                         image_extension=project.image_extension)\n",
    "len(valDataset)"
   ]
  },
  {
   "cell_type": "markdown",
   "id": "3c76dbda-a28f-4a5c-86ae-9073246003c3",
   "metadata": {},
   "source": [
    "We now have a training and validation datasets."
   ]
  }
 ],
 "metadata": {
  "kernelspec": {
   "display_name": "Python 3 (ipykernel)",
   "language": "python",
   "name": "python3"
  },
  "language_info": {
   "codemirror_mode": {
    "name": "ipython",
    "version": 3
   },
   "file_extension": ".py",
   "mimetype": "text/x-python",
   "name": "python",
   "nbconvert_exporter": "python",
   "pygments_lexer": "ipython3",
   "version": "3.10.12"
  }
 },
 "nbformat": 4,
 "nbformat_minor": 5
}
