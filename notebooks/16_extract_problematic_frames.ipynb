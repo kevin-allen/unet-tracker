{
 "cells": [
  {
   "cell_type": "markdown",
   "id": "674254a6-d54c-4d8c-b188-27bbe0ab46bd",
   "metadata": {},
   "source": [
    "# Extract problematic frames from a list of video frames\n",
    "\n",
    "When tracking the animal in videos, I am saving a list of problematic frames based on the distance between LEDs and movement speed. \n",
    "\n",
    "Here we select some of these frames and label them."
   ]
  },
  {
   "cell_type": "code",
   "execution_count": 58,
   "id": "7d32f889-1e60-4572-a5c8-3843ef307a19",
   "metadata": {},
   "outputs": [
    {
     "name": "stdout",
     "output_type": "stream",
     "text": [
      "Project directory: /adata/models/positrack2_multiport_2023/positrack2_multiport_2023\n",
      "Getting configuration from config file. Values from config file will be used.\n",
      "Loading /adata/models/positrack2_multiport_2023/positrack2_multiport_2023/config.yalm\n",
      "{'augmentation_HorizontalFlipProb': 0.0, 'augmentation_RandomBrightnessContrastProb': 0.2, 'augmentation_RandomSizedCropProb': 1.0, 'augmentation_RotateProb': 0.3, 'image_extension': '.png', 'image_size': [640, 640], 'labeling_ImageEnlargeFactor': 2.0, 'name': 'positrack2_multiport_2023', 'normalization_values': {'means': [0.39449694752693176, 0.4062608480453491, 0.4062608480453491], 'stds': [0.11578106880187988, 0.1157766655087471, 0.1157766655087471]}, 'object_colors': [(0.0, 0.0, 255.0), (255.0, 0.0, 0.0), (255.0, 255.0, 0.0)], 'objects': ['left_led', 'right_led', 'head'], 'target_radius': 6, 'unet_features': [32, 64, 128, 256]}\n"
     ]
    }
   ],
   "source": [
    "%run setup_project.py\n",
    "%matplotlib widget\n",
    "from unetTracker.dataset import UNetDataset\n",
    "from unetTracker.unetGUI import LabelFromImagesGUI, SelectImagesFromLabeledVideoGUI"
   ]
  },
  {
   "cell_type": "code",
   "execution_count": 59,
   "id": "3756d2f2-8918-41b0-8828-4419c58fc058",
   "metadata": {},
   "outputs": [
    {
     "name": "stdout",
     "output_type": "stream",
     "text": [
      "Number of images in the dataset: 1169\n"
     ]
    }
   ],
   "source": [
    "dataset = UNetDataset(image_dir=project.image_dir, mask_dir=project.mask_dir, coordinate_dir=project.coordinate_dir,\n",
    "                      image_extension=project.image_extension)\n",
    "print(\"Number of images in the dataset:\",len(dataset))"
   ]
  },
  {
   "cell_type": "code",
   "execution_count": 60,
   "id": "fc7c7f42-998b-43ab-ae8f-75c9bb61211d",
   "metadata": {},
   "outputs": [],
   "source": [
    "#video_fn = \"/home/kevin/Documents/models/positrack2_3cameras_leds_small/videos/jp497-02052023_07_short_2_label.avi\"\n",
    "video_fn = '/adata/projects/multiport_2023/fjk4136/fjk4136-12102023-0106/fjk4136-12102023_01.mp4'\n",
    "prob_indices_fn = '/adata/electro/fjk4136/fjk4136-12102023-0106/fjk4136-12102023_01.unet-tracker_problem_frames.npy'"
   ]
  },
  {
   "cell_type": "code",
   "execution_count": 61,
   "id": "4e55a196-3cb2-4e15-92b9-d76d10d13e7f",
   "metadata": {},
   "outputs": [
    {
     "name": "stdout",
     "output_type": "stream",
     "text": [
      "Loading mask /adata/projects/multiport_2023/fjk4136/fjk4136-12102023-0106/arena_mask.npy\n"
     ]
    },
    {
     "data": {
      "text/plain": [
       "(640, 640)"
      ]
     },
     "execution_count": 61,
     "metadata": {},
     "output_type": "execute_result"
    }
   ],
   "source": [
    "mask_fn = os.path.dirname(video_fn) + \"/arena_mask.npy\"\n",
    "print(\"Loading mask\", mask_fn)\n",
    "mask = np.load(mask_fn)\n",
    "mask.shape"
   ]
  },
  {
   "cell_type": "code",
   "execution_count": 62,
   "id": "7ddfbd20-14c4-4f60-89cc-fc9bc833ff3b",
   "metadata": {},
   "outputs": [
    {
     "name": "stdout",
     "output_type": "stream",
     "text": [
      "Number of problematic frames:  1604\n"
     ]
    }
   ],
   "source": [
    "prob_indices = np.load(prob_indices_fn)\n",
    "print(\"Number of problematic frames: \", prob_indices.shape[0])"
   ]
  },
  {
   "cell_type": "code",
   "execution_count": 63,
   "id": "cab6ab8c-7d4f-4957-8c90-72345fc6a8c5",
   "metadata": {},
   "outputs": [
    {
     "name": "stdout",
     "output_type": "stream",
     "text": [
      "Number of randomly selected frames: 100\n"
     ]
    }
   ],
   "source": [
    "nFrames=100\n",
    "myList = np.sort(np.random.choice(prob_indices, nFrames))\n",
    "print(\"Number of randomly selected frames:\",myList.shape[0])"
   ]
  },
  {
   "cell_type": "code",
   "execution_count": 64,
   "id": "86c6c482-2d02-453c-b4e8-5b7b563d671b",
   "metadata": {},
   "outputs": [
    {
     "name": "stdout",
     "output_type": "stream",
     "text": [
      "video length: 25433, image size: 640h 640w\n",
      "Extracting frames: [797, 900, 1454, 1483, 1653, 1655, 2141, 2459, 2532, 2566, 2606, 2826, 3314, 3377, 3380, 3631, 3814, 4920, 4945, 5607, 5874, 6149, 6514, 6674, 6981, 7018, 7022, 7144, 7186, 7240, 7267, 7348, 7372, 7551, 7994, 8274, 8380, 8516, 8757, 8855, 9075, 9676, 9970, 10505, 11205, 11206, 11208, 12773, 12913, 12913, 13926, 14494, 14553, 14886, 15105, 15157, 15333, 15343, 15401, 15723, 15723, 16309, 16452, 16505, 16508, 17440, 17731, 18581, 19033, 19087, 19467, 19780, 19943, 19949, 20093, 20153, 20466, 20617, 20619, 20619, 20775, 21696, 21980, 22274, 23271, 23311, 23372, 23489, 23699, 23733, 23818, 24107, 24441, 24525, 24906, 24911, 25268, 25293, 25356, 25372] to /adata/models/positrack2_multiport_2023/positrack2_multiport_2023/extracted_frames/\n",
      "Saving image info to /adata/models/positrack2_multiport_2023/positrack2_multiport_2023/extracted_frames/frame_info.csv\n"
     ]
    }
   ],
   "source": [
    "extracted_frame_dir = project.project_dir+\"/extracted_frames/\" # directory where the extracted images will be saved\n",
    "frame_info_file = extracted_frame_dir+\"frame_info.csv\" # file where the source of the image is stored\n",
    "\n",
    "dataset.extract_frames_from_video(video_fn = video_fn, \n",
    "                                  frame_dir = extracted_frame_dir,\n",
    "                                  image_size = project.image_size,\n",
    "                                  selected_frames = myList.tolist(),\n",
    "                                  frame_info_file = frame_info_file,\n",
    "                                  image_mask=mask)"
   ]
  },
  {
   "cell_type": "code",
   "execution_count": 65,
   "id": "a7f73f04-7322-4ae0-bb10-a2ca625d95da",
   "metadata": {},
   "outputs": [
    {
     "name": "stdout",
     "output_type": "stream",
     "text": [
      "/adata/models/positrack2_multiport_2023/positrack2_multiport_2023/extracted_frames/\n"
     ]
    }
   ],
   "source": [
    "print(extracted_frame_dir)"
   ]
  },
  {
   "cell_type": "code",
   "execution_count": 67,
   "id": "b5b71b37-82c1-4971-bcdd-6d8fb7cf33bc",
   "metadata": {},
   "outputs": [
    {
     "name": "stdout",
     "output_type": "stream",
     "text": [
      "frame.shape: (640, 640, 3)\n",
      "f9881621-69bf-11ee-b521-8dea5b036d84.png\n"
     ]
    },
    {
     "data": {
      "application/vnd.jupyter.widget-view+json": {
       "model_id": "12c49127d23e4f28b9e8641d8ee8e648",
       "version_major": 2,
       "version_minor": 0
      },
      "text/plain": [
       "LabelFromImagesGUI(children=(HTML(value='Event info'), HBox(children=(Label(value='Objects:'), RadioButtons(la…"
      ]
     },
     "execution_count": 67,
     "metadata": {},
     "output_type": "execute_result"
    }
   ],
   "source": [
    "LabelFromImagesGUI(image_dir=extracted_frame_dir,\n",
    "                   frame_info_file=frame_info_file,\n",
    "                   project=project,dataset=dataset)"
   ]
  },
  {
   "cell_type": "code",
   "execution_count": 56,
   "id": "1446b402-29e4-4821-a6a1-7d788f0902c9",
   "metadata": {},
   "outputs": [
    {
     "data": {
      "text/plain": [
       "1169"
      ]
     },
     "execution_count": 56,
     "metadata": {},
     "output_type": "execute_result"
    }
   ],
   "source": [
    "len(dataset)"
   ]
  },
  {
   "cell_type": "code",
   "execution_count": null,
   "id": "c092a8a7-4c47-453e-a6e7-82697740f51e",
   "metadata": {},
   "outputs": [],
   "source": []
  }
 ],
 "metadata": {
  "kernelspec": {
   "display_name": "Python 3 (ipykernel)",
   "language": "python",
   "name": "python3"
  },
  "language_info": {
   "codemirror_mode": {
    "name": "ipython",
    "version": 3
   },
   "file_extension": ".py",
   "mimetype": "text/x-python",
   "name": "python",
   "nbconvert_exporter": "python",
   "pygments_lexer": "ipython3",
   "version": "3.8.10"
  }
 },
 "nbformat": 4,
 "nbformat_minor": 5
}
