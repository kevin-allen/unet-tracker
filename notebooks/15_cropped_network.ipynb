{
 "cells": [
  {
   "cell_type": "markdown",
   "id": "2cf0605e-ff48-4fbe-83f9-32acd623b811",
   "metadata": {},
   "source": [
    "# Model working on cropped image\n",
    "\n",
    "To speed up inference, it is sometime helpful to have a model that runs on cropped images. The input of the model being smaller, the model is smaller and the inference is faster. \n",
    "\n",
    "When doing the inference on videos, we can crop using the previously known position of the animal.\n",
    "\n",
    "Here we use unet-tracker to create and train a model for cropped images. We can use the data set of the original model as a starting point for training. This saves us the trouble to have to label images twice (cropped and not cropped)."
   ]
  },
  {
   "cell_type": "code",
   "execution_count": 1,
   "id": "df8bf821-af14-4d59-ac4b-878b057fc34a",
   "metadata": {},
   "outputs": [
    {
     "name": "stdout",
     "output_type": "stream",
     "text": [
      "Project directory: /adata/models/positrack2_multiport_2023/positrack2_multiport_2023\n",
      "Getting configuration from config file. Values from config file will be used.\n",
      "Loading /adata/models/positrack2_multiport_2023/positrack2_multiport_2023/config.yalm\n",
      "{'augmentation_HorizontalFlipProb': 0.0, 'augmentation_RandomBrightnessContrastProb': 0.2, 'augmentation_RandomSizedCropProb': 1.0, 'augmentation_RotateProb': 0.3, 'image_extension': '.png', 'image_size': [640, 640], 'labeling_ImageEnlargeFactor': 2.0, 'name': 'positrack2_multiport_2023', 'normalization_values': {'means': [0.39449694752693176, 0.4062608480453491, 0.4062608480453491], 'stds': [0.11578106880187988, 0.1157766655087471, 0.1157766655087471]}, 'object_colors': [(0.0, 0.0, 255.0), (255.0, 0.0, 0.0), (255.0, 255.0, 0.0)], 'objects': ['left_led', 'right_led', 'head'], 'target_radius': 6, 'unet_features': [32, 64, 128, 256]}\n"
     ]
    },
    {
     "name": "stderr",
     "output_type": "stream",
     "text": [
      "/home/kevin/torch/lib/python3.8/site-packages/torchvision/io/image.py:13: UserWarning: Failed to load image Python extension: libtorch_cuda_cu.so: cannot open shared object file: No such file or directory\n",
      "  warn(f\"Failed to load image Python extension: {e}\")\n"
     ]
    }
   ],
   "source": [
    "%load_ext autoreload\n",
    "%autoreload 2\n",
    "\n",
    "# this will run the code in the setup_project.py and create a variable called `project`\n",
    "%run setup_project.py\n",
    "\n",
    "\n",
    "from unetTracker.trackingProject import TrackingProject\n",
    "from unetTracker.dataset import UNetDataset"
   ]
  },
  {
   "cell_type": "code",
   "execution_count": 2,
   "id": "8f01f351-4a80-495d-8d0e-cde7ec185941",
   "metadata": {},
   "outputs": [
    {
     "name": "stdout",
     "output_type": "stream",
     "text": [
      "Project directory: /adata/models/positrack2_multiport_2023/positrack2_multiport_2023\n",
      "Getting configuration from config file. Values from config file will be used.\n",
      "Loading /adata/models/positrack2_multiport_2023/positrack2_multiport_2023/config.yalm\n",
      "{'augmentation_HorizontalFlipProb': 0.0, 'augmentation_RandomBrightnessContrastProb': 0.2, 'augmentation_RandomSizedCropProb': 1.0, 'augmentation_RotateProb': 0.3, 'image_extension': '.png', 'image_size': [640, 640], 'labeling_ImageEnlargeFactor': 2.0, 'name': 'positrack2_multiport_2023', 'normalization_values': {'means': [0.39449694752693176, 0.4062608480453491, 0.4062608480453491], 'stds': [0.11578106880187988, 0.1157766655087471, 0.1157766655087471]}, 'object_colors': [(0.0, 0.0, 255.0), (255.0, 0.0, 0.0), (255.0, 255.0, 0.0)], 'objects': ['left_led', 'right_led', 'head'], 'target_radius': 6, 'unet_features': [32, 64, 128, 256]}\n"
     ]
    }
   ],
   "source": [
    "# original project\n",
    "project = TrackingProject(name=\"positrack2_multiport_2023\",root_folder = \"/adata/models/positrack2_multiport_2023/\")"
   ]
  },
  {
   "cell_type": "code",
   "execution_count": 3,
   "id": "53dab184-de24-47b5-8b29-3d5426301c4a",
   "metadata": {},
   "outputs": [
    {
     "name": "stdout",
     "output_type": "stream",
     "text": [
      "/adata/models/positrack2_multiport_2023_cropped/ already exists\n",
      "If you have already created your project in the past and adjusted the configuration, you don't need to run this notebook again\n"
     ]
    }
   ],
   "source": [
    "model_name = \"positrack2_multiport_2023_cropped\"\n",
    "model_path = \"/adata/models\"\n",
    "root_directory = \"{}/{}/\".format(model_path,model_name)\n",
    "if not os.path.exists(root_directory):\n",
    "    os.makedirs(root_directory)\n",
    "else:\n",
    "    print(root_directory, \"already exists\")\n",
    "    print(\"If you have already created your project in the past and adjusted the configuration, you don't need to run this notebook again\")"
   ]
  },
  {
   "cell_type": "code",
   "execution_count": 4,
   "id": "d7aec9b6-74a0-4bf2-b1c5-78719b37c1ae",
   "metadata": {},
   "outputs": [
    {
     "name": "stdout",
     "output_type": "stream",
     "text": [
      "original size: [640, 640]\n"
     ]
    }
   ],
   "source": [
    "print(\"original size:\", project.image_size)"
   ]
  },
  {
   "cell_type": "code",
   "execution_count": 5,
   "id": "ab5bcdc2-7a63-4ff9-b149-40df6a6ae070",
   "metadata": {},
   "outputs": [],
   "source": [
    "image_size_cropped=[200,200]"
   ]
  },
  {
   "cell_type": "code",
   "execution_count": 6,
   "id": "ccc88005-6527-4457-8c06-b82296e948d3",
   "metadata": {},
   "outputs": [
    {
     "name": "stdout",
     "output_type": "stream",
     "text": [
      "Project directory: /adata/models/positrack2_multiport_2023_cropped/positrack2_multiport_2023_cropped\n"
     ]
    },
    {
     "name": "stderr",
     "output_type": "stream",
     "text": [
      "/home/kevin/repo/unetTracker/unetTracker/trackingProject.py:77: UserWarning: The directory /adata/models/positrack2_multiport_2023_cropped/positrack2_multiport_2023_cropped already exist.\n",
      " If you run save_configuration() you will overwrite the previous configuration.\n",
      "  warnings.warn(\"The directory {} already exist.\\n If you run save_configuration() you will overwrite the previous configuration.\".format(self.project_dir))\n"
     ]
    }
   ],
   "source": [
    "project_cropped = TrackingProject(name=model_name,\n",
    "                          root_folder = root_directory,\n",
    "                          object_list=project.object_list,\n",
    "                          target_radius=project.target_radius,\n",
    "                           image_size=image_size_cropped,\n",
    "                          unet_features=project.unet_features)"
   ]
  },
  {
   "cell_type": "code",
   "execution_count": 7,
   "id": "ed8d9d12-e813-486e-973e-a4ec3ce624b9",
   "metadata": {},
   "outputs": [],
   "source": [
    "#project_cropped.create_project_directories()\n",
    "#project_cropped.save_configuration()"
   ]
  },
  {
   "cell_type": "markdown",
   "id": "19daed56-2de2-4ec8-a2b6-3bbc1b167baf",
   "metadata": {},
   "source": [
    "## Edit config.yalm if needed\n",
    "\n",
    "You can edit the config.yalm file if you want. For instance, you might want to adjust the values for data augmentation."
   ]
  },
  {
   "cell_type": "code",
   "execution_count": 7,
   "id": "809f6b95-a2dd-4696-ad3f-611398b492c5",
   "metadata": {},
   "outputs": [
    {
     "name": "stdout",
     "output_type": "stream",
     "text": [
      "Loading /adata/models/positrack2_multiport_2023_cropped/positrack2_multiport_2023_cropped/config.yalm\n",
      "{'augmentation_HorizontalFlipProb': 0.0, 'augmentation_RandomBrightnessContrastProb': 0.2, 'augmentation_RandomSizedCropProb': 1.0, 'augmentation_RotateProb': 0.3, 'image_extension': '.png', 'image_size': [200, 200], 'labeling_ImageEnlargeFactor': 2.0, 'name': 'positrack2_multiport_2023_cropped', 'normalization_values': None, 'object_colors': [(0.0, 0.0, 255.0), (255.0, 0.0, 0.0), (255.0, 255.0, 0.0)], 'objects': ['left_led', 'right_led', 'head'], 'target_radius': 6, 'unet_features': [32, 64, 128, 256]}\n"
     ]
    }
   ],
   "source": [
    "project_cropped.load_configuration()"
   ]
  },
  {
   "cell_type": "markdown",
   "id": "27fd8331-bdb8-4178-b46a-3659cceb7bee",
   "metadata": {},
   "source": [
    "## Create the new unet-model folder with the desired frame size"
   ]
  },
  {
   "cell_type": "markdown",
   "id": "ab85fb1c-7cbb-4a0d-83a4-6ca3fabd921e",
   "metadata": {},
   "source": [
    "## Create a cropped dataset from the non-cropped dataset."
   ]
  },
  {
   "cell_type": "code",
   "execution_count": 34,
   "id": "ee157a48-41be-4769-8916-a31e30c852bf",
   "metadata": {},
   "outputs": [
    {
     "name": "stdout",
     "output_type": "stream",
     "text": [
      "[640, 640] [200, 200]\n"
     ]
    }
   ],
   "source": [
    "print(project.image_size,project_cropped.image_size)"
   ]
  },
  {
   "cell_type": "code",
   "execution_count": 35,
   "id": "7f6f32a8-d9a1-4138-aaad-807b400685da",
   "metadata": {},
   "outputs": [],
   "source": [
    "dataset = UNetDataset(image_dir=project.image_dir, mask_dir=project.mask_dir, coordinate_dir=project.coordinate_dir,\n",
    "                      image_extension=project.image_extension)"
   ]
  },
  {
   "cell_type": "code",
   "execution_count": 36,
   "id": "312af9f8-dd09-4a3e-b2c1-83cde2d3200f",
   "metadata": {},
   "outputs": [
    {
     "name": "stdout",
     "output_type": "stream",
     "text": [
      "Create /adata/models/positrack2_multiport_2023_cropped/positrack2_multiport_2023_cropped/dataset/images\n",
      "Create /adata/models/positrack2_multiport_2023_cropped/positrack2_multiport_2023_cropped/dataset/masks\n",
      "Create /adata/models/positrack2_multiport_2023_cropped/positrack2_multiport_2023_cropped/dataset/coordinates\n"
     ]
    }
   ],
   "source": [
    "dataset_cropped = UNetDataset(image_dir=project_cropped.image_dir, mask_dir=project_cropped.mask_dir, coordinate_dir=project_cropped.coordinate_dir,\n",
    "                      image_extension=project_cropped.image_extension)"
   ]
  },
  {
   "cell_type": "code",
   "execution_count": 37,
   "id": "595e2715-3704-4e43-a8b3-371c60aa1dc2",
   "metadata": {},
   "outputs": [
    {
     "data": {
      "text/plain": [
       "(1269, 0)"
      ]
     },
     "execution_count": 37,
     "metadata": {},
     "output_type": "execute_result"
    }
   ],
   "source": [
    "len(dataset),len(dataset_cropped)"
   ]
  },
  {
   "cell_type": "code",
   "execution_count": 39,
   "id": "51fc5b92-0505-437d-a81f-1a6e50807604",
   "metadata": {},
   "outputs": [],
   "source": [
    "def generate_cropped_dataset(dataset,dataset_cropped,project,project_cropped):\n",
    "    \"\"\"\n",
    "    Generate a cropped dataset from the non-cropped dataset\n",
    "    \n",
    "    \n",
    "    \"\"\"\n",
    "    \n",
    "    # loop for all labelled images in the original dataset\n",
    "    for img_index in tqdm(range(len(dataset))):\n",
    "        \n",
    "        # load data\n",
    "        img_path, mask_path, coord_path = dataset.get_image_mask_coord_file_names(img_index)\n",
    "        image = cv2.imread(img_path).astype(np.float32)\n",
    "        mask = np.load(mask_path).astype(np.float32)\n",
    "        coordinates = np.loadtxt(coord_path)\n",
    "\n",
    "        # get the mean of objects\n",
    "        if np.all(np.isnan(coordinates)): # all invalid object\n",
    "            crop_coordinate_center = np.array([np.random.uniform(low=0.0, high=image.shape[0]),np.random.uniform(low=0.0, high=image.shape[1])])\n",
    "            \n",
    "        else: # we have some valid data to get the mean of objects\n",
    "            crop_coordinate_center = np.nanmean(coordinates,axis=0)\n",
    "\n",
    "        \n",
    "        #print(\"img_index:\",img_index)\n",
    "        #print(\"center\",crop_coordinate_center)\n",
    "            \n",
    "            \n",
    "        # adjust the crop coordinate center to ensure we have enough pixels in the 4 directions from the center point\n",
    "        for i in range(2):\n",
    "            if (crop_coordinate_center[i]+project_cropped.image_size[i]/2 > project.image_size[i]):\n",
    "                crop_coordinate_center[i] = project.image_size[i]-project_cropped.image_size[i]/2\n",
    "            if (crop_coordinate_center[i]-project_cropped.image_size[i]/2 < 0):\n",
    "                crop_coordinate_center[i] = project_cropped.image_size[i]/2\n",
    "\n",
    "                \n",
    "        #print(\"center (adjusted)\",crop_coordinate_center)\n",
    "        # get the indices used for the crop operation\n",
    "        x,X = int(crop_coordinate_center[0]-project_cropped.image_size[0]/2),int(crop_coordinate_center[0]+project_cropped.image_size[0]/2)\n",
    "        y,Y = int(crop_coordinate_center[1]-project_cropped.image_size[1]/2),int(crop_coordinate_center[1]+project_cropped.image_size[1]/2)\n",
    "\n",
    "        image_cropped = image[y:Y,x:X]\n",
    "        mask_cropped = mask[y:Y,x:X]\n",
    "        \n",
    "        # get the coordinate of the objects\n",
    "        coordinates_cropped = coordinates - np.array([[x,y]])\n",
    "        \n",
    "        #print(\"x X, y, Y:\", x,X,y,Y)\n",
    "        #print(\"coordinates:\",coordinates)\n",
    "        #print(\"coordinates_cropped:\",coordinates_cropped)\n",
    "        \n",
    "        # make sure that we are between 0 and project_cropped.image_size\n",
    "        c=coordinates_cropped\n",
    "        c[np.logical_or(np.logical_or(c[:,0]<0,c[:,0]>project_cropped.image_size[0]),np.logical_or(c[:,1]<0,c[:,1]>project_cropped.image_size[1])),:] = np.nan\n",
    "       \n",
    "        #print(\"coordinates_cropped boundary applied:\",coordinates_cropped)\n",
    "        \n",
    "        \n",
    "      \n",
    "        \n",
    "        \n",
    "        img_path, mask_path, coordinates_path = dataset_cropped.save_entry(image_cropped,mask_cropped,coordinates_cropped)"
   ]
  },
  {
   "cell_type": "code",
   "execution_count": 40,
   "id": "3ff8b905-22f9-4db1-afd1-4ef4fee1b6df",
   "metadata": {},
   "outputs": [
    {
     "name": "stderr",
     "output_type": "stream",
     "text": [
      "100%|███████████████████████████████████████| 1269/1269 [01:12<00:00, 17.54it/s]\n"
     ]
    }
   ],
   "source": [
    "generate_cropped_dataset(dataset,dataset_cropped,project,project_cropped)"
   ]
  },
  {
   "cell_type": "code",
   "execution_count": 41,
   "id": "102cc745-54e9-4b6a-b053-57bedff1b97d",
   "metadata": {},
   "outputs": [
    {
     "data": {
      "text/plain": [
       "1269"
      ]
     },
     "execution_count": 41,
     "metadata": {},
     "output_type": "execute_result"
    }
   ],
   "source": [
    "len(dataset_cropped)"
   ]
  },
  {
   "cell_type": "code",
   "execution_count": 51,
   "id": "69c17790-b078-411d-b92f-5ace6eecca02",
   "metadata": {},
   "outputs": [],
   "source": [
    "image,mask,coord = dataset_cropped[5]\n"
   ]
  },
  {
   "cell_type": "code",
   "execution_count": 52,
   "id": "e3469599-d4fa-4cdf-8f18-360a8b5fc0e1",
   "metadata": {},
   "outputs": [],
   "source": [
    "image = image.permute(1,2,0).numpy()\n",
    "mask = mask.permute(1,2,0).numpy()"
   ]
  },
  {
   "cell_type": "code",
   "execution_count": 53,
   "id": "68dc3667-d0a7-45fa-99d2-7cd30bb8bdbb",
   "metadata": {},
   "outputs": [
    {
     "data": {
      "text/plain": [
       "<matplotlib.image.AxesImage at 0x7f17ecbda910>"
      ]
     },
     "execution_count": 53,
     "metadata": {},
     "output_type": "execute_result"
    },
    {
     "data": {
      "image/png": "[encoded data removed]",
      "text/plain": [
       "<Figure size 640x480 with 2 Axes>"
      ]
     },
     "metadata": {},
     "output_type": "display_data"
    }
   ],
   "source": [
    "fig, axs = plt.subplots(1,2)\n",
    "axs[0].imshow(image/255)\n",
    "axs[1].imshow(mask)\n"
   ]
  },
  {
   "cell_type": "code",
   "execution_count": 33,
   "id": "b8800dce-bd0f-4a52-8c63-d5bf87339631",
   "metadata": {},
   "outputs": [
    {
     "data": {
      "text/plain": [
       "(1269, 1569)"
      ]
     },
     "execution_count": 33,
     "metadata": {},
     "output_type": "execute_result"
    }
   ],
   "source": [
    "len(dataset),len(dataset_cropped)"
   ]
  },
  {
   "cell_type": "code",
   "execution_count": null,
   "id": "372a693d-85f3-4fe0-9cd6-5f5ae1030429",
   "metadata": {},
   "outputs": [],
   "source": []
  }
 ],
 "metadata": {
  "kernelspec": {
   "display_name": "Python 3 (ipykernel)",
   "language": "python",
   "name": "python3"
  },
  "language_info": {
   "codemirror_mode": {
    "name": "ipython",
    "version": 3
   },
   "file_extension": ".py",
   "mimetype": "text/x-python",
   "name": "python",
   "nbconvert_exporter": "python",
   "pygments_lexer": "ipython3",
   "version": "3.8.10"
  }
 },
 "nbformat": 4,
 "nbformat_minor": 5
}
