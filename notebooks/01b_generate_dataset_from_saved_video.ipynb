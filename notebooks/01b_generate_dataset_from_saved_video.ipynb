{
 "cells": [
  {
   "cell_type": "markdown",
   "id": "bd218d3e-9937-4940-9a09-4d74a9fbcda1",
   "metadata": {},
   "source": [
    "# Extract images from a video and add them to a dataset\n",
    "\n",
    "This notebook is similar to the previous one but the source of the images to label will be a video.\n",
    "\n",
    "As an example here, we will generate the video from a camera and then work from the video.\n",
    "\n",
    "\n",
    "You eventually want to have at least 500 images in your dataset. You can start with 100-200 images and go through all notebooks. You can always add more images and re-train your network. \n",
    "\n",
    "You probably want a minimum of 150 images to get started."
   ]
  },
  {
   "cell_type": "code",
   "execution_count": 1,
   "id": "f49225de-4b8a-43c1-a16b-2e4776010a0c",
   "metadata": {},
   "outputs": [],
   "source": [
    "%matplotlib widget\n",
    "import matplotlib.pyplot as plt\n",
    "import cv2\n",
    "import numpy as np\n",
    "import ipywidgets as widgets\n",
    "\n",
    "\n",
    "from unetTracker.trackingProject import TrackingProject\n",
    "from unetTracker.dataset import UNetDataset\n",
    "from unetTracker.camera import USBCamera, bgr8_to_jpeg\n",
    "from unetTracker.unetGUI import LabelFromImagesGUI"
   ]
  },
  {
   "cell_type": "markdown",
   "id": "b8958448-ee53-4a60-92ef-d049cd78b0ad",
   "metadata": {},
   "source": [
    "Load a project"
   ]
  },
  {
   "cell_type": "code",
   "execution_count": 2,
   "id": "f57b9032-7ed7-4ec1-bda6-9e6a7542633c",
   "metadata": {},
   "outputs": [
    {
     "name": "stdout",
     "output_type": "stream",
     "text": [
      "Project directory: /home/kevin/Documents/trackingProjects/faceTrack\n",
      "Getting configuration from config file. Values from config file will be used.\n"
     ]
    },
    {
     "ename": "OSError",
     "evalue": "[Errno No configuration file present,] /home/kevin/Documents/trackingProjects/faceTrack/config.yalm",
     "output_type": "error",
     "traceback": [
      "\u001b[0;31m---------------------------------------------------------------------------\u001b[0m",
      "\u001b[0;31mOSError\u001b[0m                                   Traceback (most recent call last)",
      "Cell \u001b[0;32mIn[2], line 1\u001b[0m\n\u001b[0;32m----> 1\u001b[0m project \u001b[38;5;241m=\u001b[39m \u001b[43mTrackingProject\u001b[49m\u001b[43m(\u001b[49m\u001b[43mname\u001b[49m\u001b[38;5;241;43m=\u001b[39;49m\u001b[38;5;124;43m\"\u001b[39;49m\u001b[38;5;124;43mfaceTrack\u001b[39;49m\u001b[38;5;124;43m\"\u001b[39;49m\u001b[43m,\u001b[49m\u001b[43mroot_folder\u001b[49m\u001b[43m \u001b[49m\u001b[38;5;241;43m=\u001b[39;49m\u001b[43m \u001b[49m\u001b[38;5;124;43m\"\u001b[39;49m\u001b[38;5;124;43m/home/kevin/Documents/trackingProjects/\u001b[39;49m\u001b[38;5;124;43m\"\u001b[39;49m\u001b[43m)\u001b[49m\n",
      "File \u001b[0;32m~/repo/unetTracker/unetTracker/trackingProject.py:74\u001b[0m, in \u001b[0;36mTrackingProject.__init__\u001b[0;34m(self, name, root_folder, object_list, target_radius, transform, image_size, unet_features)\u001b[0m\n\u001b[1;32m     72\u001b[0m \u001b[38;5;28;01mif\u001b[39;00m object_list \u001b[38;5;129;01mis\u001b[39;00m \u001b[38;5;28;01mNone\u001b[39;00m: \u001b[38;5;66;03m# assumes we are supposed to get the details from a config file.\u001b[39;00m\n\u001b[1;32m     73\u001b[0m     \u001b[38;5;28mprint\u001b[39m(\u001b[38;5;124m\"\u001b[39m\u001b[38;5;124mGetting configuration from config file. Values from config file will be used.\u001b[39m\u001b[38;5;124m\"\u001b[39m)\n\u001b[0;32m---> 74\u001b[0m     \u001b[38;5;28;43mself\u001b[39;49m\u001b[38;5;241;43m.\u001b[39;49m\u001b[43mload_configuration\u001b[49m\u001b[43m(\u001b[49m\u001b[43m)\u001b[49m\n\u001b[1;32m     75\u001b[0m \u001b[38;5;28;01melse\u001b[39;00m: \u001b[38;5;66;03m# assumes the user is setting up a new project\u001b[39;00m\n\u001b[1;32m     76\u001b[0m     \u001b[38;5;28;01mif\u001b[39;00m os\u001b[38;5;241m.\u001b[39mpath\u001b[38;5;241m.\u001b[39mexists(\u001b[38;5;28mself\u001b[39m\u001b[38;5;241m.\u001b[39mproject_dir):\n",
      "File \u001b[0;32m~/repo/unetTracker/unetTracker/trackingProject.py:188\u001b[0m, in \u001b[0;36mTrackingProject.load_configuration\u001b[0;34m(self)\u001b[0m\n\u001b[1;32m    185\u001b[0m     \u001b[38;5;28mprint\u001b[39m(\u001b[38;5;28mself\u001b[39m\u001b[38;5;241m.\u001b[39mconfigDict)\n\u001b[1;32m    187\u001b[0m \u001b[38;5;28;01melse\u001b[39;00m:\n\u001b[0;32m--> 188\u001b[0m     \u001b[38;5;28;01mraise\u001b[39;00m \u001b[38;5;167;01mIOError\u001b[39;00m(\u001b[38;5;124m\"\u001b[39m\u001b[38;5;124mNo configuration file present,\u001b[39m\u001b[38;5;124m\"\u001b[39m,\u001b[38;5;28mself\u001b[39m\u001b[38;5;241m.\u001b[39mconfig_fn)\n",
      "\u001b[0;31mOSError\u001b[0m: [Errno No configuration file present,] /home/kevin/Documents/trackingProjects/faceTrack/config.yalm"
     ]
    }
   ],
   "source": [
    "project = TrackingProject(name=\"faceTrack\",root_folder = \"/home/kevin/Documents/trackingProjects/\")"
   ]
  },
  {
   "cell_type": "markdown",
   "id": "8b39940d-b495-4448-851f-338181f6d5f7",
   "metadata": {},
   "source": [
    "Create a dataset for the project."
   ]
  },
  {
   "cell_type": "code",
   "execution_count": 3,
   "id": "9101ed9a-33e9-4476-a552-97c826933188",
   "metadata": {},
   "outputs": [],
   "source": [
    "dataset = UNetDataset(image_dir=project.image_dir, mask_dir=project.mask_dir, coordinate_dir=project.coordinate_dir)"
   ]
  },
  {
   "cell_type": "code",
   "execution_count": 4,
   "id": "3865711d-c42b-4db0-948d-baec6dad5dad",
   "metadata": {},
   "outputs": [
    {
     "name": "stdout",
     "output_type": "stream",
     "text": [
      "Number of images in the dataset: 721\n"
     ]
    }
   ],
   "source": [
    "print(\"Number of images in the dataset:\",len(dataset))"
   ]
  },
  {
   "cell_type": "markdown",
   "id": "4580224a-9506-4d74-9736-9f45052a1851",
   "metadata": {},
   "source": [
    "## Extract frames from a video\n",
    "\n",
    "You need to select a directory in which the individual extracted frames will be saved. Here I used a directory within my project directory.\n",
    "\n",
    "Images will be added to any image that is already in the folder. "
   ]
  },
  {
   "cell_type": "code",
   "execution_count": 5,
   "id": "4923f1e7-a96e-47b3-bb05-48e3a84a1890",
   "metadata": {},
   "outputs": [
    {
     "name": "stdout",
     "output_type": "stream",
     "text": [
      "/home/kevin/Documents/trackingProjects/faceTrack/extracted_frames/\n"
     ]
    }
   ],
   "source": [
    "#video_fn = \"/ext_drives/d69/data/electro/fjk9263/fjk9263-17112022-1221/output.mp4\"\n",
    "video_fn = '/tmp/video1.avi'\n",
    "extracted_frame_dir = project.project_dir+\"/extracted_frames/\"\n",
    "print(extracted_frame_dir)"
   ]
  },
  {
   "cell_type": "code",
   "execution_count": 6,
   "id": "29807bbc-d6e5-4c6a-9a3a-317f0fa234af",
   "metadata": {},
   "outputs": [
    {
     "name": "stdout",
     "output_type": "stream",
     "text": [
      "video length: 300, image size: 480h 640w\n",
      "Extracting frames: [  1  13  14  20  26  37  41  50  56  58  66  73  75  77  79  97 107 116\n",
      " 126 129 138 139 141 142 143 161 162 165 167 168 176 206 214 218 221 227\n",
      " 234 245 249 250 260 269 270 272 276 279 288 291 292 294] to /home/kevin/Documents/trackingProjects/faceTrack/extracted_frames/\n"
     ]
    }
   ],
   "source": [
    "dataset.extract_frames_from_video(video_fn,50,extracted_frame_dir,project.image_size)"
   ]
  },
  {
   "cell_type": "markdown",
   "id": "fa1a6edf-224e-4839-8414-c207402e9ff5",
   "metadata": {},
   "source": [
    "## Label extracted frames and save to dataset\n",
    "\n",
    "We use a GUI to label the object in the extracted frames.\n",
    "\n",
    "Make sure that your image is shown at maximal size by extending the notebook window. \n",
    "Make sure the label are correctly positioned in the image below.\n",
    "\n",
    "\n",
    "1. In the large image, click on the object selected by the radio button. The label should appear in the picture below. \n",
    "2. If you don't want to save the data from a particular image, click on Next frame.\n",
    "2. Repeat for all your visible objects\n",
    "3. Click on Save labelled frame.\n",
    "4. Repeat for all your images\n",
    "\n",
    "When you click on `Save labelled frame`, the image is remove from the `extract_frame_dir` directory and transfer to your dataset."
   ]
  },
  {
   "cell_type": "code",
   "execution_count": 7,
   "id": "1fc4beb5-a138-4f6a-aac1-08ea37ee886f",
   "metadata": {},
   "outputs": [
    {
     "name": "stdout",
     "output_type": "stream",
     "text": [
      "frame.shape: (480, 640, 3)\n"
     ]
    },
    {
     "data": {
      "application/vnd.jupyter.widget-view+json": {
       "model_id": "4d53aaeb8a43461ea3883346e126b985",
       "version_major": 2,
       "version_minor": 0
      },
      "text/plain": [
       "LabelFromImagesGUI(children=(HTML(value='Event info'), HBox(children=(Label(value='Objects:'), RadioButtons(la…"
      ]
     },
     "execution_count": 7,
     "metadata": {},
     "output_type": "execute_result"
    }
   ],
   "source": [
    "LabelFromImagesGUI(image_dir=extracted_frame_dir,project=project,dataset=dataset)"
   ]
  },
  {
   "cell_type": "code",
   "execution_count": 8,
   "id": "74fcac56-a48b-4c8a-8a36-1efa55ebea4d",
   "metadata": {},
   "outputs": [
    {
     "data": {
      "text/plain": [
       "739"
      ]
     },
     "execution_count": 8,
     "metadata": {},
     "output_type": "execute_result"
    }
   ],
   "source": [
    "len(dataset)"
   ]
  },
  {
   "cell_type": "code",
   "execution_count": null,
   "id": "d79932c7-a13a-4655-8030-6790cbf4e7e3",
   "metadata": {},
   "outputs": [],
   "source": []
  }
 ],
 "metadata": {
  "kernelspec": {
   "display_name": "Python 3 (ipykernel)",
   "language": "python",
   "name": "python3"
  },
  "language_info": {
   "codemirror_mode": {
    "name": "ipython",
    "version": 3
   },
   "file_extension": ".py",
   "mimetype": "text/x-python",
   "name": "python",
   "nbconvert_exporter": "python",
   "pygments_lexer": "ipython3",
   "version": "3.10.12"
  }
 },
 "nbformat": 4,
 "nbformat_minor": 5
}
