{
 "cells": [
  {
   "cell_type": "markdown",
   "id": "4be15241",
   "metadata": {},
   "source": [
    "# Creating a tracking project\n",
    "\n",
    "Most of the configuration for your tracking project is stored in a TrackingProject object. \n",
    "\n",
    "The configuration and dataset for your project will be saved in a directory should ideally be kept separately from the unet-tracker repository code. The project directory will be several 100 Mb once you have saved the images used to train your model.\n",
    "\n",
    "The configuration is saved to and loaded from a `config.yalm` file that is located in your project directory. You can edit this file manually if needed and reload the configuration from file.\n"
   ]
  },
  {
   "cell_type": "markdown",
   "id": "e89960c5",
   "metadata": {},
   "source": [
    "If you create a TrackingProject and give an `object_list`, the codes assumes that you want to create a new project."
   ]
  },
  {
   "cell_type": "code",
   "execution_count": 1,
   "id": "68bd44a5",
   "metadata": {},
   "outputs": [
    {
     "name": "stdout",
     "output_type": "stream",
     "text": [
      "Looking in indexes: https://pypi.org/simple, https://pypi.ngc.nvidia.com\n",
      "Obtaining file:///usr/src/app/repo/unetTracker\n",
      "  Installing build dependencies ... \u001b[?25ldone\n",
      "\u001b[?25h  Checking if build backend supports build_editable ... \u001b[?25ldone\n",
      "\u001b[?25h  Getting requirements to build editable ... \u001b[?25ldone\n",
      "\u001b[?25h  Installing backend dependencies ... \u001b[?25ldone\n",
      "\u001b[?25h  Preparing editable metadata (pyproject.toml) ... \u001b[?25ldone\n",
      "\u001b[?25hBuilding wheels for collected packages: unetTracker\n",
      "  Building editable for unetTracker (pyproject.toml) ... \u001b[?25ldone\n",
      "\u001b[?25h  Created wheel for unetTracker: filename=unetTracker-0.0.1-0.editable-py3-none-any.whl size=15264 sha256=82f0c8814157211d2311951062da0f785643b3adc4fd3f60d549ef2a10331594\n",
      "  Stored in directory: /tmp/pip-ephem-wheel-cache-7v9vpnng/wheels/5d/e0/64/485540bb11873b73ebea6b354ad89933aadb1a523ad2a42c5c\n",
      "Successfully built unetTracker\n",
      "Installing collected packages: unetTracker\n",
      "Successfully installed unetTracker-0.0.1\n",
      "\u001b[33mWARNING: Running pip as the 'root' user can result in broken permissions and conflicting behaviour with the system package manager. It is recommended to use a virtual environment instead: https://pip.pypa.io/warnings/venv\u001b[0m\u001b[33m\n",
      "\u001b[0m"
     ]
    }
   ],
   "source": [
    "# If you are working in a docker container\n",
    "! cd /usr/src/app/repo/unetTracker && ! python3 -m pip install -e .\n",
    "# restart your kernel after this ran"
   ]
  },
  {
   "cell_type": "code",
   "execution_count": 1,
   "id": "51d84d11",
   "metadata": {},
   "outputs": [],
   "source": [
    "from unetTracker.trackingProject import TrackingProject\n",
    "import os"
   ]
  },
  {
   "cell_type": "markdown",
   "id": "86094e38",
   "metadata": {},
   "source": [
    "You can create a directory where you will store your unetTracker projects."
   ]
  },
  {
   "cell_type": "code",
   "execution_count": 2,
   "id": "84824e96",
   "metadata": {},
   "outputs": [],
   "source": [
    "root_directory = \"/home/kevin/Documents/trackingProjects/\"\n",
    "if not os.path.exists(root_directory):\n",
    "    os.makedirs(root_directory)"
   ]
  },
  {
   "cell_type": "markdown",
   "id": "20cf871a",
   "metadata": {},
   "source": [
    "You can now create a TrackingProject object.\n",
    "\n",
    "Set a meaningful name for your project and list the object/body parts that you want to track.\n",
    "\n",
    "The radius is determining the size of the markers that the model will try to track. It can be changed later on."
   ]
  },
  {
   "cell_type": "code",
   "execution_count": 3,
   "id": "277e5a2a",
   "metadata": {},
   "outputs": [
    {
     "name": "stdout",
     "output_type": "stream",
     "text": [
      "Project directory: /home/kevin/Documents/trackingProjects/mouseTrack\n"
     ]
    }
   ],
   "source": [
    "project = TrackingProject(name=\"mouseTrack\",root_folder = root_directory,object_list=[\"snout\",\"earL\",\"earR\",\"tail\"],target_radius=6)"
   ]
  },
  {
   "cell_type": "markdown",
   "id": "912f073f",
   "metadata": {},
   "source": [
    "You can now create the project directories and save a default configuration file."
   ]
  },
  {
   "cell_type": "code",
   "execution_count": 4,
   "id": "8de256ad",
   "metadata": {},
   "outputs": [
    {
     "name": "stdout",
     "output_type": "stream",
     "text": [
      "Create /home/kevin/Documents/trackingProjects/mouseTrack\n",
      "Create /home/kevin/Documents/trackingProjects/mouseTrack/dataset\n",
      "Create /home/kevin/Documents/trackingProjects/mouseTrack/dataset/images\n",
      "Create /home/kevin/Documents/trackingProjects/mouseTrack/dataset/coordinates\n",
      "Create /home/kevin/Documents/trackingProjects/mouseTrack/dataset/masks\n",
      "Create /home/kevin/Documents/trackingProjects/mouseTrack/models\n",
      "Create /home/kevin/Documents/trackingProjects/mouseTrack/augmentation\n",
      "Saving /home/kevin/Documents/trackingProjects/mouseTrack/config.yalm\n"
     ]
    }
   ],
   "source": [
    "project.create_project_directories()\n",
    "project.save_configuration()"
   ]
  },
  {
   "cell_type": "markdown",
   "id": "7d8dc3be",
   "metadata": {},
   "source": [
    "You can inspect at your project directory. "
   ]
  },
  {
   "cell_type": "code",
   "execution_count": 5,
   "id": "546000fd",
   "metadata": {},
   "outputs": [
    {
     "name": "stdout",
     "output_type": "stream",
     "text": [
      "Project directory: /home/kevin/Documents/trackingProjects/mouseTrack\n",
      "Inside your project directory: ['dataset', 'models', 'augmentation', 'config.yalm']\n"
     ]
    }
   ],
   "source": [
    "print(\"Project directory:\", project.project_dir)\n",
    "print(\"Inside your project directory:\",os.listdir(project.project_dir))"
   ]
  },
  {
   "cell_type": "markdown",
   "id": "1b4a0ae0",
   "metadata": {},
   "source": [
    "## Edit your config.yalm file\n",
    "\n",
    "You can now edit the `config.yalm` file. You can use your favorite text editor to inspect or edit your `config.yalm`.\n",
    "\n",
    "When you are done you can load the new configuration from file.\n",
    "\n",
    "Make sure you set the correct size for your images. \n",
    "\n",
    "* image_size (first value is height, second value is width)\n",
    "\n"
   ]
  },
  {
   "cell_type": "code",
   "execution_count": 6,
   "id": "363a904f",
   "metadata": {},
   "outputs": [
    {
     "name": "stdout",
     "output_type": "stream",
     "text": [
      "Loading /home/kevin/Documents/trackingProjects/mouseTrack/config.yalm\n",
      "{'augmentation_HorizontalFlipProb': 0.5, 'augmentation_RandomBrightnessContrastProb': 0.2, 'augmentation_RandomSizedCropProb': 1.0, 'augmentation_RotateProb': 0.3, 'image_size': [480, 640], 'labeling_ImageEnlargeFactor': 2.0, 'name': 'mouseTrack', 'normalization_values': None, 'object_colors': [(0.0, 0.0, 255.0), (255.0, 0.0, 0.0), (255.0, 255.0, 0.0), (240.0, 255.0, 255.0)], 'objects': ['snout', 'earL', 'earR', 'tail'], 'target_radius': 6}\n"
     ]
    }
   ],
   "source": [
    "project.load_configuration()"
   ]
  },
  {
   "cell_type": "markdown",
   "id": "2fcb8a7a",
   "metadata": {},
   "source": [
    "## Creating a TrackingProject object from an existing project config.yalm file\n",
    "\n",
    "The next time you want to create a TrackingProject object for your existing project, you can simply point to the existing project directory.\n",
    "\n",
    "Because there is no object list given as argument, the code will look for an existing project and automatically load the configuration from file.\n",
    "\n",
    "This is how you will create the TrackingProject object in the following notebooks."
   ]
  },
  {
   "cell_type": "code",
   "execution_count": 7,
   "id": "f67f96b6",
   "metadata": {},
   "outputs": [
    {
     "name": "stdout",
     "output_type": "stream",
     "text": [
      "Project directory: /home/kevin/Documents/trackingProjects/mouseTrack\n",
      "Loading /home/kevin/Documents/trackingProjects/mouseTrack/config.yalm\n",
      "{'augmentation_HorizontalFlipProb': 0.5, 'augmentation_RandomBrightnessContrastProb': 0.2, 'augmentation_RandomSizedCropProb': 1.0, 'augmentation_RotateProb': 0.3, 'image_size': [480, 640], 'labeling_ImageEnlargeFactor': 2.0, 'name': 'mouseTrack', 'normalization_values': None, 'object_colors': [(0.0, 0.0, 255.0), (255.0, 0.0, 0.0), (255.0, 255.0, 0.0), (240.0, 255.0, 255.0)], 'objects': ['snout', 'earL', 'earR', 'tail'], 'target_radius': 6}\n"
     ]
    }
   ],
   "source": [
    "project = TrackingProject(name=\"mouseTrack\",root_folder = \"/home/kevin/Documents/trackingProjects/\")"
   ]
  },
  {
   "cell_type": "code",
   "execution_count": null,
   "id": "f3171e3a",
   "metadata": {},
   "outputs": [],
   "source": []
  }
 ],
 "metadata": {
  "kernelspec": {
   "display_name": "Python 3",
   "language": "python",
   "name": "python3"
  },
  "language_info": {
   "codemirror_mode": {
    "name": "ipython",
    "version": 3
   },
   "file_extension": ".py",
   "mimetype": "text/x-python",
   "name": "python",
   "nbconvert_exporter": "python",
   "pygments_lexer": "ipython3",
   "version": "3.8.5"
  }
 },
 "nbformat": 4,
 "nbformat_minor": 5
}
